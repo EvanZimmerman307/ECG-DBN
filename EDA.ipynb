{
 "cells": [
  {
   "cell_type": "markdown",
   "metadata": {},
   "source": [
    "# Understanding the Data"
   ]
  },
  {
   "cell_type": "code",
   "execution_count": 7,
   "metadata": {},
   "outputs": [
    {
     "name": "stdout",
     "output_type": "stream",
     "text": [
      "{'record_name': '113', 'n_sig': 12, 'fs': 400, 'counter_freq': None, 'base_counter': None, 'sig_len': 4096, 'base_time': None, 'base_date': None, 'comments': ['Age: 68', 'Sex: Female', 'Chagas label: False', 'Source: CODE-15%'], 'sig_name': ['I', 'II', 'III', 'AVR', 'AVL', 'AVF', 'V1', 'V2', 'V3', 'V4', 'V5', 'V6'], 'p_signal': array([[ 7.767,  2.82 , -4.947, ...,  3.826,  3.948,  4.367],\n",
      "       [ 7.747,  2.801, -4.946, ...,  3.811,  3.934,  4.353],\n",
      "       [ 7.713,  2.783, -4.93 , ...,  3.803,  3.921,  4.337],\n",
      "       ...,\n",
      "       [ 3.432,  0.98 , -2.452, ...,  1.839,  1.746,  2.304],\n",
      "       [ 3.458,  0.984, -2.474, ...,  1.827,  1.733,  2.286],\n",
      "       [ 3.48 ,  0.982, -2.499, ...,  1.818,  1.718,  2.276]]), 'd_signal': None, 'e_p_signal': None, 'e_d_signal': None, 'file_name': ['113.dat', '113.dat', '113.dat', '113.dat', '113.dat', '113.dat', '113.dat', '113.dat', '113.dat', '113.dat', '113.dat', '113.dat'], 'fmt': ['16', '16', '16', '16', '16', '16', '16', '16', '16', '16', '16', '16'], 'samps_per_frame': [1, 1, 1, 1, 1, 1, 1, 1, 1, 1, 1, 1], 'skew': [None, None, None, None, None, None, None, None, None, None, None, None], 'byte_offset': [None, None, None, None, None, None, None, None, None, None, None, None], 'adc_gain': [1000.0, 1000.0, 1000.0, 1000.0, 1000.0, 1000.0, 1000.0, 1000.0, 1000.0, 1000.0, 1000.0, 1000.0], 'baseline': [0, 0, 0, 0, 0, 0, 0, 0, 0, 0, 0, 0], 'units': ['mV', 'mV', 'mV', 'mV', 'mV', 'mV', 'mV', 'mV', 'mV', 'mV', 'mV', 'mV'], 'adc_res': [16, 16, 16, 16, 16, 16, 16, 16, 16, 16, 16, 16], 'adc_zero': [0, 0, 0, 0, 0, 0, 0, 0, 0, 0, 0, 0], 'init_value': [7767, 2820, -4947, -5290, 6357, -1059, 4451, 3186, 4451, 3826, 3948, 4367], 'checksum': [28904, -4132, 32499, 18601, -9558, -23504, 27243, 15474, 28365, 22578, -12925, -14130], 'block_size': [0, 0, 0, 0, 0, 0, 0, 0, 0, 0, 0, 0]}\n"
     ]
    }
   ],
   "source": [
    "import wfdb\n",
    "import pandas as pd\n",
    "import os\n",
    "\n",
    "record_path = '/Users/evanzimm/GitHub/python-example-2025/code15_output/exams_part0/113'\n",
    "\n",
    "if not os.path.exists(record_path + '.dat') or not os.path.exists(record_path + '.hea'):\n",
    "    print(\"Error: The .dat or .hea file is missing.\")\n",
    "\n",
    "# Read the .dat file along with the .hea (header) file using wfdb\n",
    "record = wfdb.rdrecord(record_path)\n",
    "\n",
    "print(record.__dict__)\n",
    "\n",
    "# The ECG signal data is stored in record.d_signal\n",
    "# Convert the signal data to a pandas DataFrame\n",
    "#df = pd.DataFrame(record.d_signal)\n",
    "\n",
    "# If you want to see the first few rows of the DataFrame\n",
    "#print(df.head())\n"
   ]
  },
  {
   "cell_type": "markdown",
   "metadata": {},
   "source": [
    "Key Details from the record.__dict__ Output:\n",
    "\n",
    "record_name: '113' This is the name of the ECG record (usually derived from the filename without extension).\n",
    "\n",
    "n_sig: 12 The number of signals (ECG leads) in the dataset. This record has 12 leads, corresponding to the 12-lead ECG.\n",
    "\n",
    "fs: 400 The sampling frequency (Hz) is 400, meaning that the signal is sampled 400 times per second.\n",
    "\n",
    "sig_len: 4096 The length of the signal data (number of samples in each ECG lead).\n",
    "\n",
    "sig_name: ['I', 'II', 'III', 'AVR', 'AVL', 'AVF', 'V1', 'V2', 'V3', 'V4', 'V5', 'V6'] The names of the 12 ECG leads.\n",
    "\n",
    "comments: ['Age: 68', 'Sex: Female', 'Chagas label: False', 'Source: CODE-15%']\n",
    "\n",
    "Additional information about the record, including patient demographics (age, sex) and labels (Chagas status).\n",
    "\n",
    "p_signal: (Array of signal data) This is the actual ECG signal data in float32 format, represented as a 2D array with shape (4096, 12) (i.e., 4096 samples, 12 leads).\n",
    "\n",
    "d_signal: NoneThis field is not populated in this case. It may be used for digitally scaled signals, but in this case, it doesn't contain any data.\n",
    "\n",
    "adc_gain: [1000.0, 1000.0, 1000.0, 1000.0, 1000.0, 1000.0, 1000.0, 1000.0, 1000.0, 1000.0, 1000.0, 1000.0] The gain applied to each of the ECG leads, here set to 1000 for each lead.\n",
    "\n",
    "baseline: [0, 0, 0, 0, 0, 0, 0, 0, 0, 0, 0, 0]\n",
    "\n",
    "The baseline value for each lead, typically 0. units: ['mV', 'mV', 'mV', 'mV', 'mV', 'mV', 'mV', 'mV', 'mV', 'mV', 'mV', 'mV'] The units of the signals, which are in millivolts (mV) for each lead.\n",
    "\n",
    "checksum: [28904, -4132, 32499, 18601, -9558, -23504, 27243, 15474, 28365, 22578, -12925, -14130]\n",
    "\n",
    "And More..."
   ]
  },
  {
   "cell_type": "code",
   "execution_count": 93,
   "metadata": {},
   "outputs": [
    {
     "name": "stdout",
     "output_type": "stream",
     "text": [
      "       I     II    III    AVR    AVL    AVF     V1     V2     V3     V4  \\\n",
      "0  7.767  2.820 -4.947 -5.290  6.357 -1.059  4.451  3.186  4.451  3.826   \n",
      "1  7.747  2.801 -4.946 -5.270  6.342 -1.071  4.460  3.194  4.447  3.811   \n",
      "2  7.713  2.783 -4.930 -5.247  6.320 -1.075  4.465  3.207  4.448  3.803   \n",
      "3  7.682  2.766 -4.916 -5.225  6.299 -1.074  4.475  3.216  4.447  3.799   \n",
      "4  7.660  2.752 -4.909 -5.206  6.281 -1.075  4.497  3.224  4.451  3.796   \n",
      "\n",
      "      V5     V6  \n",
      "0  3.948  4.367  \n",
      "1  3.934  4.353  \n",
      "2  3.921  4.337  \n",
      "3  3.912  4.322  \n",
      "4  3.910  4.322  \n"
     ]
    }
   ],
   "source": [
    "# Convert the signal data to a pandas DataFrame\n",
    "df = pd.DataFrame(record.p_signal)\n",
    "\n",
    "# Set the column names as the lead names (from the 'sig_name' attribute)\n",
    "df.columns = record.sig_name\n",
    "\n",
    "# Show the first few rows of the DataFrame\n",
    "print(df.head())"
   ]
  },
  {
   "cell_type": "markdown",
   "metadata": {},
   "source": [
    "I am pretty sure all the data is scaled by a factor of 1000 but that is not important"
   ]
  },
  {
   "cell_type": "code",
   "execution_count": 94,
   "metadata": {},
   "outputs": [
    {
     "name": "stdout",
     "output_type": "stream",
     "text": [
      "DF Shape: (4096, 12)\n"
     ]
    }
   ],
   "source": [
    "print(\"DF Shape: \" + str(df.shape))\n",
    "\n"
   ]
  },
  {
   "cell_type": "code",
   "execution_count": 95,
   "metadata": {},
   "outputs": [
    {
     "name": "stdout",
     "output_type": "stream",
     "text": [
      "          I     II    III    AVR    AVL    AVF     V1     V2     V3     V4  \\\n",
      "4091  3.376  0.981 -2.395 -2.179  2.883 -0.704  2.930  1.460  2.152  1.848   \n",
      "4092  3.399  0.976 -2.424 -2.188  2.912 -0.724  2.927  1.448  2.149  1.845   \n",
      "4093  3.432  0.980 -2.452 -2.203  2.940 -0.736  2.921  1.441  2.143  1.839   \n",
      "4094  3.458  0.984 -2.474 -2.217  2.961 -0.745  2.907  1.432  2.131  1.827   \n",
      "4095  3.480  0.982 -2.499 -2.228  2.986 -0.758  2.902  1.421  2.122  1.818   \n",
      "\n",
      "         V5     V6  \n",
      "4091  1.749  2.313  \n",
      "4092  1.745  2.309  \n",
      "4093  1.746  2.304  \n",
      "4094  1.733  2.286  \n",
      "4095  1.718  2.276  \n"
     ]
    }
   ],
   "source": [
    "print(df.tail())"
   ]
  },
  {
   "cell_type": "code",
   "execution_count": 96,
   "metadata": {},
   "outputs": [
    {
     "name": "stdout",
     "output_type": "stream",
     "text": [
      "I      3\n",
      "II     0\n",
      "III    2\n",
      "AVR    0\n",
      "AVL    1\n",
      "AVF    4\n",
      "V1     0\n",
      "V2     0\n",
      "V3     0\n",
      "V4     0\n",
      "V5     0\n",
      "V6     0\n",
      "dtype: int64\n"
     ]
    }
   ],
   "source": [
    "# Check non-zero\n",
    "\n",
    "# Count 0s in each column\n",
    "zero_counts = df.eq(0).sum(axis=0)\n",
    "\n",
    "print(zero_counts)"
   ]
  },
  {
   "cell_type": "code",
   "execution_count": 97,
   "metadata": {},
   "outputs": [
    {
     "name": "stdout",
     "output_type": "stream",
     "text": [
      "I      0\n",
      "II     0\n",
      "III    0\n",
      "AVR    0\n",
      "AVL    0\n",
      "AVF    0\n",
      "V1     0\n",
      "V2     0\n",
      "V3     0\n",
      "V4     0\n",
      "V5     0\n",
      "V6     0\n",
      "dtype: int64\n"
     ]
    }
   ],
   "source": [
    "# Missing Data?\n",
    "\n",
    "missing_counts = df.isnull().sum()\n",
    "print(missing_counts)"
   ]
  },
  {
   "cell_type": "code",
   "execution_count": 47,
   "metadata": {},
   "outputs": [
    {
     "name": "stdout",
     "output_type": "stream",
     "text": [
      "['tracings']\n",
      "(1631, 4096, 12)\n",
      "[[0. 0. 0. ... 0. 0. 0.]\n",
      " [0. 0. 0. ... 0. 0. 0.]\n",
      " [0. 0. 0. ... 0. 0. 0.]\n",
      " ...\n",
      " [0. 0. 0. ... 0. 0. 0.]\n",
      " [0. 0. 0. ... 0. 0. 0.]\n",
      " [0. 0. 0. ... 0. 0. 0.]]\n"
     ]
    }
   ],
   "source": [
    "import h5py\n",
    "import numpy as np\n",
    "\n",
    "f = h5py.File('/Users/evanzimm/GitHub/python-example-2025/samitrop_input/exams.hdf5', 'r')\n",
    "\n",
    "print(list(f.keys()))\n",
    "tracings = f['tracings']\n",
    "print(tracings.shape)\n",
    "print(tracings[3])\n",
    "\n",
    "# Get ids\n",
    "# traces_ids = np.array(f['id_exam'])\n",
    "#x = f['signal']"
   ]
  },
  {
   "cell_type": "code",
   "execution_count": 48,
   "metadata": {},
   "outputs": [
    {
     "name": "stdout",
     "output_type": "stream",
     "text": [
      "{'record_name': '20129', 'n_sig': 12, 'fs': 400, 'counter_freq': None, 'base_counter': None, 'sig_len': 2934, 'base_time': None, 'base_date': None, 'comments': ['Age: 65', 'Sex: Female', 'Chagas label: True', 'Source: SaMi-Trop'], 'sig_name': ['I', 'II', 'III', 'AVR', 'AVL', 'AVF', 'V1', 'V2', 'V3', 'V4', 'V5', 'V6'], 'p_signal': array([[-0.215, -0.147,  0.068, ...,  0.274, -0.127, -0.235],\n",
      "       [-0.266, -0.195,  0.071, ...,  0.316, -0.175, -0.295],\n",
      "       [-0.099, -0.066,  0.033, ...,  0.163, -0.004, -0.083],\n",
      "       ...,\n",
      "       [-0.238, -0.195,  0.043, ...,  0.28 , -0.156, -0.272],\n",
      "       [-0.215, -0.166,  0.049, ...,  0.274, -0.137, -0.244],\n",
      "       [-0.046, -0.035,  0.012, ...,  0.061, -0.029, -0.052]]), 'd_signal': None, 'e_p_signal': None, 'e_d_signal': None, 'file_name': ['20129.dat', '20129.dat', '20129.dat', '20129.dat', '20129.dat', '20129.dat', '20129.dat', '20129.dat', '20129.dat', '20129.dat', '20129.dat', '20129.dat'], 'fmt': ['16', '16', '16', '16', '16', '16', '16', '16', '16', '16', '16', '16'], 'samps_per_frame': [1, 1, 1, 1, 1, 1, 1, 1, 1, 1, 1, 1], 'skew': [None, None, None, None, None, None, None, None, None, None, None, None], 'byte_offset': [None, None, None, None, None, None, None, None, None, None, None, None], 'adc_gain': [1000.0, 1000.0, 1000.0, 1000.0, 1000.0, 1000.0, 1000.0, 1000.0, 1000.0, 1000.0, 1000.0, 1000.0], 'baseline': [0, 0, 0, 0, 0, 0, 0, 0, 0, 0, 0, 0], 'units': ['mV', 'mV', 'mV', 'mV', 'mV', 'mV', 'mV', 'mV', 'mV', 'mV', 'mV', 'mV'], 'adc_res': [16, 16, 16, 16, 16, 16, 16, 16, 16, 16, 16, 16], 'adc_zero': [0, 0, 0, 0, 0, 0, 0, 0, 0, 0, 0, 0], 'init_value': [-215, -147, 68, 186, -137, -39, 313, 342, 420, 274, -127, -235], 'checksum': [-12368, -14914, -2528, 27216, -30851, 30771, -13083, -1475, 17877, -13572, 21895, -12455], 'block_size': [0, 0, 0, 0, 0, 0, 0, 0, 0, 0, 0, 0]}\n"
     ]
    }
   ],
   "source": [
    "record_path = '/Users/evanzimm/GitHub/python-example-2025/samitrop_output/20129'\n",
    "\n",
    "if not os.path.exists(record_path + '.dat') or not os.path.exists(record_path + '.hea'):\n",
    "    print(\"Error: The .dat or .hea file is missing.\")\n",
    "\n",
    "# Read the .dat file along with the .hea (header) file using wfdb\n",
    "record = wfdb.rdrecord(record_path)\n",
    "\n",
    "print(record.__dict__)\n"
   ]
  },
  {
   "cell_type": "markdown",
   "metadata": {},
   "source": [
    "Some signals originally have a duration of 10 seconds (10 * 400 = 4000 samples) and others of 7 seconds (7 * 400 = 2800 samples). In order to make them all have the same size (4096 samples), we fill them with zeros on both sizes. For instance, for a 7 seconds ECG signal with 2800 samples we include 648 samples at the beginning and 648 samples at the end, yielding 4096 samples that are then saved in the hdf5 dataset. "
   ]
  },
  {
   "cell_type": "markdown",
   "metadata": {},
   "source": [
    "By signals in this case, they mean all of the 12 signals (i.e. within one signal there are 12 leads, but it is not like one lead when for 10 seconds and another went for 7 I think)."
   ]
  },
  {
   "cell_type": "markdown",
   "metadata": {},
   "source": [
    "No Mixing of Durations Across Leads: It’s not like one lead is sampled for 7 seconds and another for 10 seconds. All leads have the same duration for each exam. The difference in duration (7 or 10 seconds) is across different exams, not across different leads in a single exam."
   ]
  },
  {
   "cell_type": "markdown",
   "metadata": {},
   "source": [
    "Same Sampling Rate for All Leads: All 12 leads are sampled at the same rate (400 Hz in this case) for the same duration. So, if the exam lasts 7 seconds or 10 seconds, all 12 leads have data sampled at the same intervals for that duration."
   ]
  },
  {
   "cell_type": "markdown",
   "metadata": {},
   "source": [
    "In your case, the signal represents the complete set of 12 leads for an individual exam, sampled at the same time over the duration of that exam. The key point is that all 12 leads in a single exam are aligned and sampled for the same duration, and the entire 12-lead data is treated as one signal in the dataset."
   ]
  },
  {
   "cell_type": "markdown",
   "metadata": {},
   "source": [
    "# How does this fit Optimal Stopping Theory, Optimal Sampling Theory, and Belief Networks?"
   ]
  },
  {
   "cell_type": "markdown",
   "metadata": {},
   "source": [
    "Here is a rough idea:\n",
    "\n",
    "With dynamic belief networks we can model how the conditional probabilities change over time. We are interested in predicting Chagras. \n",
    "\n",
    "We have 2800 samples or 4096 samples, etc, meaning that one obersvation has many time steps. That seems quite large. The solution could be to somehow come up with larger time intervals and then define discrete states from those intervals? Just need to define states over the samples.\n",
    "\n",
    "To tie this into optimal stopping theory, maybe there is a way to predict Chagras before the final state? Tbh this doesn't seem to be very beneficial because we are talking about a 7 second window. Predicting after 7 seconds vs after 3 seconds doesn't seem that beneficial.\n",
    "\n",
    "Maybe it doesn't need to be a dynamic network... (but maybe that contradicts my research interests)"
   ]
  },
  {
   "cell_type": "markdown",
   "metadata": {},
   "source": [
    "# Coming up with a dataset"
   ]
  },
  {
   "cell_type": "markdown",
   "metadata": {},
   "source": [
    " SaMi-Trop dataset contains all positive records (1,631 records from Brazil). CODE-15 dataset also contains records from Brazil from around the same time, early 2010s. Chagras labels are self-reported for that dataset. PTB-XL dataset contains records from Europe in the 90's and all patients are likely negatigve.\n",
    "\n",
    " The positive and negative labels for the dataset should be 50/50 split. To start, I will create a dataset that includes all the SaMi-Trop data (and positive labels from CODE-15?), as well as an equal number of records with negative labels from CODE-15. For these two datasets, most records have a sampling duration of 7.3 or 10.2s, and a sampling frequencty of 400hz. \n",
    "\n",
    " Every record in the dataset should have the same duration and frequency because that makes it easy to come up with discrete states."
   ]
  },
  {
   "cell_type": "markdown",
   "metadata": {},
   "source": [
    "## Positive Labels in CODE-15"
   ]
  },
  {
   "cell_type": "code",
   "execution_count": 16,
   "metadata": {},
   "outputs": [],
   "source": [
    "# Loop through the data in both CODE-15 output folders and find all the positive records\n",
    "from pathlib import Path\n",
    "import wfdb\n",
    "\n",
    "def getPositiveRecords(path):\n",
    "    \"\"\"\n",
    "    Loop through all the .hea files in a folder and find all the positive records.\n",
    "    Return a list of filenames of all the positive records.\n",
    "    \"\"\"\n",
    "\n",
    "    # Specify the directory path\n",
    "    directory = Path(path)\n",
    "\n",
    "    positive_records = []\n",
    "\n",
    "\n",
    "    # Loop through all files in the directory\n",
    "    for file in directory.iterdir():\n",
    "        # if it is a header file, check if it is a positive label\n",
    "        if file.is_file() and file.suffix == '.hea':\n",
    "            file_name_without_extension = file.stem\n",
    "\n",
    "            if file.name == '113.hea':\n",
    "                print(path + '/' + file_name_without_extension)\n",
    "\n",
    "            header = wfdb.rdheader(path + '/' + file_name_without_extension)\n",
    "\n",
    "            if file.name == '113.hea':\n",
    "                print(header.__dict__)\n",
    "\n",
    "            if header.__dict__['comments'][2] == 'Chagas label: True':\n",
    "                positive_records.append(file.name)\n",
    "            \n",
    "    \n",
    "    return positive_records"
   ]
  },
  {
   "cell_type": "code",
   "execution_count": 17,
   "metadata": {},
   "outputs": [
    {
     "name": "stdout",
     "output_type": "stream",
     "text": [
      "/Users/evanzimm/GitHub/python-example-2025/code15_output/exams_part0/113\n",
      "{'record_name': '113', 'n_sig': 12, 'fs': 400, 'counter_freq': None, 'base_counter': None, 'sig_len': 4096, 'base_time': None, 'base_date': None, 'comments': ['Age: 68', 'Sex: Female', 'Chagas label: False', 'Source: CODE-15%'], 'sig_name': ['I', 'II', 'III', 'AVR', 'AVL', 'AVF', 'V1', 'V2', 'V3', 'V4', 'V5', 'V6'], 'p_signal': None, 'd_signal': None, 'e_p_signal': None, 'e_d_signal': None, 'file_name': ['113.dat', '113.dat', '113.dat', '113.dat', '113.dat', '113.dat', '113.dat', '113.dat', '113.dat', '113.dat', '113.dat', '113.dat'], 'fmt': ['16', '16', '16', '16', '16', '16', '16', '16', '16', '16', '16', '16'], 'samps_per_frame': [1, 1, 1, 1, 1, 1, 1, 1, 1, 1, 1, 1], 'skew': [None, None, None, None, None, None, None, None, None, None, None, None], 'byte_offset': [None, None, None, None, None, None, None, None, None, None, None, None], 'adc_gain': [1000.0, 1000.0, 1000.0, 1000.0, 1000.0, 1000.0, 1000.0, 1000.0, 1000.0, 1000.0, 1000.0, 1000.0], 'baseline': [0, 0, 0, 0, 0, 0, 0, 0, 0, 0, 0, 0], 'units': ['mV', 'mV', 'mV', 'mV', 'mV', 'mV', 'mV', 'mV', 'mV', 'mV', 'mV', 'mV'], 'adc_res': [16, 16, 16, 16, 16, 16, 16, 16, 16, 16, 16, 16], 'adc_zero': [0, 0, 0, 0, 0, 0, 0, 0, 0, 0, 0, 0], 'init_value': [7767, 2820, -4947, -5290, 6357, -1059, 4451, 3186, 4451, 3826, 3948, 4367], 'checksum': [28904, -4132, 32499, 18601, -9558, -23504, 27243, 15474, 28365, 22578, -12925, -14130], 'block_size': [0, 0, 0, 0, 0, 0, 0, 0, 0, 0, 0, 0]}\n"
     ]
    }
   ],
   "source": [
    "Code15_exams0_positive = getPositiveRecords('/Users/evanzimm/GitHub/python-example-2025/code15_output/exams_part0')"
   ]
  },
  {
   "cell_type": "code",
   "execution_count": 19,
   "metadata": {},
   "outputs": [
    {
     "name": "stdout",
     "output_type": "stream",
     "text": [
      "['1009988.hea', '10163.hea', '1020143.hea', '102085.hea', '1020860.hea', '1020861.hea', '1045453.hea', '104832.hea', '1088268.hea', '1092558.hea', '1097244.hea', '1097957.hea', '1101228.hea', '1106740.hea', '1125189.hea', '1127506.hea', '113212.hea', '1133183.hea', '1134788.hea', '1136480.hea', '1138801.hea', '1140788.hea', '114173.hea', '1156277.hea', '115721.hea', '1172034.hea', '1172990.hea', '117915.hea', '1196487.hea', '1197846.hea', '1198535.hea', '1222567.hea', '1224050.hea', '1244617.hea', '1252491.hea', '1254816.hea', '126444.hea', '1268155.hea', '1271015.hea', '1272282.hea', '1279443.hea', '1284876.hea', '1291946.hea', '1296655.hea', '129732.hea', '1300.hea', '1302303.hea', '1306361.hea', '1317956.hea', '1319530.hea', '1325823.hea', '1330870.hea', '1346632.hea', '1348356.hea', '1371488.hea', '137977.hea', '1394331.hea', '1401767.hea', '1408718.hea', '142108.hea', '1429931.hea', '1456644.hea', '147125.hea', '1490631.hea', '1496954.hea', '1523972.hea', '1532651.hea', '153934.hea', '1540730.hea', '1541080.hea', '1547045.hea', '1549881.hea', '1554977.hea', '1565354.hea', '1566999.hea', '1570762.hea', '1595939.hea', '159708.hea', '1606262.hea', '1610475.hea', '162088.hea', '1625419.hea', '1638391.hea', '1638989.hea', '1650986.hea', '1651611.hea', '1653258.hea', '1665433.hea', '1672113.hea', '171772.hea', '172007.hea', '185136.hea', '192884.hea', '195648.hea', '204015.hea', '210295.hea', '210865.hea', '216400.hea', '219605.hea', '229141.hea', '234733.hea', '241543.hea', '243352.hea', '2503264.hea', '2503585.hea', '2503735.hea', '2519781.hea', '2525830.hea', '2531761.hea', '2531903.hea', '2531911.hea', '2532235.hea', '2532759.hea', '2533282.hea', '2533982.hea', '2538552.hea', '2538920.hea', '254975.hea', '25549.hea', '256721.hea', '2655354.hea', '2656017.hea', '2657550.hea', '2658277.hea', '2661458.hea', '2664710.hea', '2665398.hea', '2671048.hea', '2672008.hea', '2672597.hea', '2676003.hea', '2676496.hea', '2678080.hea', '2679904.hea', '2680498.hea', '2683207.hea', '2687310.hea', '271678.hea', '2730098.hea', '2734959.hea', '2740829.hea', '274230.hea', '2743585.hea', '274493.hea', '2750816.hea', '2756924.hea', '2761305.hea', '2763293.hea', '2765659.hea', '2766386.hea', '2767239.hea', '2773019.hea', '2773684.hea', '2775976.hea', '2778056.hea', '2778172.hea', '2779053.hea', '2792057.hea', '2792791.hea', '2795505.hea', '2797229.hea', '2801552.hea', '2801735.hea', '281171.hea', '2816239.hea', '2816993.hea', '2818439.hea', '2819270.hea', '2822184.hea', '2827180.hea', '2836319.hea', '2838558.hea', '2838709.hea', '2838770.hea', '284580.hea', '2853920.hea', '2856783.hea', '2858306.hea', '2862771.hea', '286332.hea', '2864278.hea', '2864537.hea', '286835.hea', '287035.hea', '2876563.hea', '287886.hea', '2884560.hea', '2885042.hea', '2885477.hea', '2891124.hea', '2893730.hea', '2893752.hea', '2893891.hea', '2894674.hea', '2904282.hea', '2905181.hea', '2915792.hea', '2920113.hea', '2920543.hea', '2921689.hea', '2926529.hea', '2938437.hea', '2941329.hea', '2942379.hea', '2942706.hea', '2944908.hea', '2947390.hea', '2949176.hea', '2954200.hea', '2958419.hea', '2967158.hea', '2967466.hea', '2967665.hea', '2969444.hea', '2977630.hea', '2980325.hea', '2980705.hea', '2984278.hea', '2985754.hea', '2985818.hea', '2991256.hea', '2996517.hea', '2996959.hea', '2998554.hea', '3010142.hea', '3020202.hea', '3023090.hea', '3027740.hea', '3029925.hea', '3040010.hea', '3046991.hea', '3051628.hea', '3051653.hea', '3057244.hea', '3064300.hea', '3068004.hea', '3096754.hea', '30990.hea', '3108110.hea', '3117808.hea', '3120584.hea', '3127145.hea', '3135007.hea', '3137276.hea', '3139304.hea', '3141544.hea', '3153013.hea', '3153031.hea', '3157817.hea', '3175964.hea', '3180094.hea', '3188137.hea', '3193243.hea', '3195515.hea', '3197657.hea', '3200530.hea', '3206903.hea', '3211603.hea', '3225763.hea', '323833.hea', '329227.hea', '332174.hea', '333354.hea', '3394589.hea', '3399393.hea', '3401766.hea', '3405537.hea', '3408028.hea', '3412243.hea', '346062.hea', '355871.hea', '357655.hea', '360314.hea', '3626738.hea', '3628250.hea', '3630865.hea', '3631492.hea', '371980.hea', '3789788.hea', '3793342.hea', '3797987.hea', '37987.hea', '3799498.hea', '384733.hea', '390178.hea', '396556.hea', '398132.hea', '398190.hea', '407543.hea', '408503.hea', '416643.hea', '417958.hea', '4195420.hea', '419710.hea', '4199725.hea', '4199751.hea', '420623.hea', '4208460.hea', '4212284.hea', '4212873.hea', '4223.hea', '423180.hea', '4238630.hea', '4244783.hea', '4244784.hea', '424846.hea', '4249365.hea', '4252920.hea', '425517.hea', '4260239.hea', '4265185.hea', '4266987.hea', '42796.hea', '434158.hea', '4388217.hea', '4392673.hea', '4395984.hea', '4398305.hea', '4406287.hea', '4410229.hea', '4414044.hea', '44211.hea', '446844.hea', '457482.hea', '460857.hea', '46612.hea', '474396.hea', '488994.hea', '503001.hea', '512610.hea', '513186.hea', '5247.hea', '531590.hea', '532491.hea', '53306.hea', '542995.hea', '54474.hea', '54550.hea', '545883.hea', '547574.hea', '549095.hea', '552815.hea', '563637.hea', '568658.hea', '571465.hea', '579462.hea', '582859.hea', '58452.hea', '592509.hea', '61082.hea', '611196.hea', '625675.hea', '631042.hea', '632268.hea', '634675.hea', '636069.hea', '636220.hea', '666055.hea', '66969.hea', '679332.hea', '68665.hea', '697064.hea', '702169.hea', '704086.hea', '706073.hea', '706588.hea', '71740.hea', '719654.hea', '739322.hea', '746470.hea', '758600.hea', '763678.hea', '769569.hea', '774079.hea', '782629.hea', '784828.hea', '793116.hea', '795649.hea', '798273.hea', '80760.hea', '825265.hea', '82753.hea', '82859.hea', '851785.hea', '854857.hea', '858335.hea', '862489.hea', '87618.hea', '885745.hea', '903239.hea', '903545.hea', '911066.hea', '92971.hea', '931087.hea', '937941.hea', '939048.hea', '94232.hea', '944678.hea', '950933.hea', '952626.hea', '968008.hea', '975703.hea']\n"
     ]
    }
   ],
   "source": [
    "print(Code15_exams0_positive)"
   ]
  },
  {
   "cell_type": "code",
   "execution_count": 21,
   "metadata": {},
   "outputs": [
    {
     "name": "stdout",
     "output_type": "stream",
     "text": [
      "402\n"
     ]
    }
   ],
   "source": [
    "print(len(Code15_exams0_positive))"
   ]
  },
  {
   "cell_type": "code",
   "execution_count": null,
   "metadata": {},
   "outputs": [],
   "source": [
    "from concurrent.futures import ThreadPoolExecutor\n",
    "from pathlib import Path\n",
    "import wfdb\n",
    "\n",
    "\n",
    "# Function to process each file\n",
    "def process_file(file, path):\n",
    "    # if it is a header file, check if it is a positive label\n",
    "    if file.is_file() and file.suffix == '.hea':\n",
    "        file_name_without_extension = file.stem\n",
    "\n",
    "        # Assuming wfdb.rdheader requires a full path to the file\n",
    "        header = wfdb.rdheader(str(path / file_name_without_extension))\n",
    "\n",
    "        if header.__dict__['comments'][2] == 'Chagas label: True':\n",
    "            return file.name\n",
    "    \n",
    "    return None  # Return the list of positive records for this file\n",
    "\n",
    "# Main function to get the positive records\n",
    "def getPositiveRecordsOptimized(path):\n",
    "    # Convert the path to a Path object\n",
    "    directory = Path(path)\n",
    "\n",
    "    # Use glob to get all .hea files in the directory\n",
    "    files_to_process = list(directory.glob('*.hea'))\n",
    "\n",
    "    # Process files in parallel using ThreadPoolExecutor\n",
    "    with ThreadPoolExecutor(max_workers=8) as executor:\n",
    "        # Map the process_file function to the list of files\n",
    "        results = executor.map(process_file, files_to_process, [directory]*len(files_to_process))\n",
    "\n",
    "    # Filter out None values and return the list of positive records\n",
    "    positive_records = [result for result in results if result is not None]\n",
    "\n",
    "    return positive_records\n",
    "\n",
    "    "
   ]
  },
  {
   "cell_type": "code",
   "execution_count": 9,
   "metadata": {},
   "outputs": [],
   "source": [
    "Code15_exams0_positive_optimized = getPositiveRecordsOptimized('/Users/evanzimm/GitHub/python-example-2025/code15_output/exams_part0')"
   ]
  },
  {
   "cell_type": "code",
   "execution_count": 11,
   "metadata": {},
   "outputs": [
    {
     "name": "stdout",
     "output_type": "stream",
     "text": [
      "402\n"
     ]
    }
   ],
   "source": [
    "print(len(Code15_exams0_positive_optimized))"
   ]
  },
  {
   "cell_type": "code",
   "execution_count": 23,
   "metadata": {},
   "outputs": [
    {
     "name": "stdout",
     "output_type": "stream",
     "text": [
      "optimization works\n"
     ]
    }
   ],
   "source": [
    "if(Code15_exams0_positive_optimized == Code15_exams0_positive):\n",
    "    print(\"optimization works\")"
   ]
  },
  {
   "cell_type": "markdown",
   "metadata": {},
   "source": [
    "It doesn't seem to actually make a big difference (over-engineerered tbh)."
   ]
  },
  {
   "cell_type": "code",
   "execution_count": 24,
   "metadata": {},
   "outputs": [],
   "source": [
    "Code15_exams1_positive = getPositiveRecordsOptimized('/Users/evanzimm/GitHub/python-example-2025/code15_output/exams_part1')"
   ]
  },
  {
   "cell_type": "code",
   "execution_count": 25,
   "metadata": {},
   "outputs": [
    {
     "name": "stdout",
     "output_type": "stream",
     "text": [
      "417\n"
     ]
    }
   ],
   "source": [
    "print(len(Code15_exams1_positive))"
   ]
  },
  {
   "cell_type": "markdown",
   "metadata": {},
   "source": [
    "Positive examples = 417 + 402 + 800ish = around 1600. Now the question is what the sampling frequency should be?"
   ]
  },
  {
   "cell_type": "markdown",
   "metadata": {},
   "source": [
    "First I need to start building this dataset in a folder. This will make it easier to compare meta-data across records."
   ]
  },
  {
   "cell_type": "code",
   "execution_count": 27,
   "metadata": {},
   "outputs": [],
   "source": [
    "import shutil\n",
    "from pathlib import Path\n",
    "\n",
    "def copy_files(file_list, source_dir, target_dir, other_suffix):\n",
    "    \"\"\"\n",
    "    Copy files from the source directory to the target directory, including\n",
    "    a file with the same stem but a different suffix.\n",
    "\n",
    "    :param file_list: List of filenames (with suffixes) to copy.\n",
    "    :param source_dir: Path to the source directory.\n",
    "    :param target_dir: Path to the target directory.\n",
    "    :param other_suffix: The suffix of the other file to copy (e.g., \".txt\" to \".hea\").\n",
    "    \"\"\"\n",
    "    # Convert source and target directories to Path objects\n",
    "    source_dir = Path(source_dir)\n",
    "    target_dir = Path(target_dir)\n",
    "\n",
    "    # Make sure the target directory exists, create it if not\n",
    "    # target_dir.mkdir(parents=True, exist_ok=True)\n",
    "\n",
    "    # Loop through the list of filenames\n",
    "    for file_name in file_list:\n",
    "        source_file = source_dir / file_name  # Full path of the primary file\n",
    "\n",
    "        # Check if the primary file exists\n",
    "        if source_file.is_file():\n",
    "            # Copy the primary file to the target directory\n",
    "            target_file = target_dir / file_name\n",
    "            shutil.copy(source_file, target_file)\n",
    "            # print(f\"Copied {file_name} to {target_dir}\")\n",
    "\n",
    "            # Get the stem (filename without extension) to find the corresponding file with the other suffix\n",
    "            file_stem = source_file.stem\n",
    "            other_file = source_dir / f\"{file_stem}{other_suffix}\"  # Full path of the other file\n",
    "\n",
    "            # Check if the corresponding file exists and copy it\n",
    "            if other_file.is_file():\n",
    "                target_other_file = target_dir / f\"{file_stem}{other_suffix}\"\n",
    "                shutil.copy(other_file, target_other_file)\n",
    "                # print(f\"Copied {other_file.name} to {target_dir}\")\n",
    "            else: \n",
    "                print(f\"Corresponding file with suffix '{other_suffix}' not found for {file_name}\")\n",
    "        else:\n",
    "            print(f\"File {file_name} does not exist in the source directory.\")\n"
   ]
  },
  {
   "cell_type": "code",
   "execution_count": null,
   "metadata": {},
   "outputs": [],
   "source": [
    "# Example usage:\n",
    "# file_list = [\"file1.txt\", \"file2.hea\", \"file3.txt\"]  # Replace with your list of files\n",
    "\n",
    "##### Copy positive records from code15 exam part 0 into dbn_dataset #####\n",
    "\n",
    "exams0_source_dir = \"/Users/evanzimm/GitHub/python-example-2025/code15_output/exams_part0\"  # Replace with the path to your source directory\n",
    "target_dir = \"/Users/evanzimm/GitHub/python-example-2025/dbn_dataset\"  # Replace with the path to your target directory\n",
    "other_suffix = \".dat\"  # The suffix of the other file to copy (e.g., \".hea\" for \".txt\")\n",
    "\n",
    "copy_files(Code15_exams0_positive, exams0_source_dir, target_dir, other_suffix)\n",
    "\n",
    "#TODO: COPY THE FILES OVER"
   ]
  },
  {
   "cell_type": "code",
   "execution_count": null,
   "metadata": {},
   "outputs": [],
   "source": [
    "# Example usage:\n",
    "# file_list = [\"file1.txt\", \"file2.hea\", \"file3.txt\"]  # Replace with your list of files\n",
    "\n",
    "##### Copy positive records from code15 exam part 1 into dbn_dataset #####\n",
    "\n",
    "exams1_source_dir = \"/Users/evanzimm/GitHub/python-example-2025/code15_output/exams_part1\"  # Replace with the path to your source directory\n",
    "target_dir = \"/Users/evanzimm/GitHub/python-example-2025/dbn_dataset\"  # Replace with the path to your target directory\n",
    "other_suffix = \".dat\"  # The suffix of the other file to copy (e.g., \".hea\" for \".txt\")\n",
    "\n",
    "copy_files(Code15_exams1_positive, exams1_source_dir, target_dir, other_suffix)\n",
    "\n",
    "#TODO: COPY THE FILES OVER"
   ]
  },
  {
   "cell_type": "markdown",
   "metadata": {},
   "source": [
    "The next thing I need to consider is how to organize the data into states (timesteps) because DBNs operate on data in states. Different records have different sampling durations, most commonly 7.3 seconds or 10.2 seconds and a sampling frequency of 400Hz. Before I decide how to organize states, let's just group by and count records by sampling frequency (fs) and signal length (sig_len). "
   ]
  },
  {
   "cell_type": "code",
   "execution_count": 19,
   "metadata": {},
   "outputs": [],
   "source": [
    "from collections import defaultdict\n",
    "from pathlib import Path\n",
    "\n",
    "def countSamplingFrequency(path):\n",
    "    \"\"\"\n",
    "    Return a hashtable with  (key:(sampling frequency, sig_len), value:[.hea files])\n",
    "    \"\"\"\n",
    "\n",
    "    # Create a hash table for grouping (key:(sampling frequency, sig_len), value:[.hea files])\n",
    "    sampling_counter = defaultdict(list)\n",
    "\n",
    "    # Loop through all hea files in dbn_dataset\n",
    "    # Specify the directory path\n",
    "    directory = Path(path)\n",
    "\n",
    "    # Loop through all files in the directory\n",
    "    for file in directory.iterdir():\n",
    "        # if it is a header file, append the .hea file to the list for the corresponding key (sampling frequency, signal length)\n",
    "        if file.is_file() and file.suffix == '.hea':\n",
    "            file_name_without_extension = file.stem\n",
    "\n",
    "            header = wfdb.rdheader(path + '/' + file_name_without_extension)\n",
    "\n",
    "            sampling_freq = header.__dict__['fs']\n",
    "            signal_length = header.__dict__['sig_len']\n",
    "\n",
    "            sampling_counter[(sampling_freq, signal_length)].append(file.name)\n",
    "\n",
    "    return sampling_counter\n"
   ]
  },
  {
   "cell_type": "code",
   "execution_count": 20,
   "metadata": {},
   "outputs": [],
   "source": [
    "# Group files in dbn_dataset by (sampling frequency, n_sig)\n",
    "dbn_dataset_path = \"/Users/evanzimm/GitHub/python-example-2025/dbn_dataset\"\n",
    "\n",
    "dbn_dataset_samlping_counter = countSamplingFrequency(dbn_dataset_path)"
   ]
  },
  {
   "cell_type": "code",
   "execution_count": 21,
   "metadata": {},
   "outputs": [
    {
     "name": "stdout",
     "output_type": "stream",
     "text": [
      "Length of group (400, 4096): 1084\n",
      "Length of group (400, 2934): 2004\n",
      "Length of group (400, 3265): 1\n",
      "Length of group (400, 3270): 1\n",
      "Length of group (400, 2325): 1\n",
      "Length of group (400, 2600): 1\n",
      "Length of group (400, 1912): 1\n",
      "Length of group (400, 3960): 1\n",
      "Length of group (400, 3564): 1\n",
      "Length of group (400, 3242): 1\n",
      "Length of group (400, 2980): 1\n",
      "Length of group (400, 3345): 1\n",
      "Length of group (400, 1792): 1\n",
      "Length of group (400, 3874): 7\n",
      "Length of group (400, 2601): 2\n",
      "Length of group (400, 3024): 1\n",
      "Length of group (400, 1924): 1\n",
      "Length of group (400, 3994): 1\n",
      "Length of group (400, 3628): 1\n",
      "Length of group (400, 3021): 1\n",
      "Length of group (400, 1834): 1\n",
      "Length of group (400, 2769): 1\n",
      "Length of group (400, 3841): 1\n",
      "Length of group (400, 3196): 1\n",
      "Length of group (400, 3457): 2\n",
      "Length of group (400, 1872): 1\n",
      "Length of group (400, 2978): 1\n",
      "Length of group (400, 1574): 1\n",
      "Length of group (400, 3900): 1\n",
      "Length of group (400, 3068): 1\n",
      "Length of group (400, 2878): 2\n",
      "Length of group (400, 2730): 1\n",
      "Length of group (400, 2346): 1\n",
      "Length of group (400, 3670): 1\n",
      "Length of group (400, 3969): 1\n",
      "Length of group (400, 2546): 1\n",
      "Length of group (400, 3904): 1\n",
      "Length of group (400, 1886): 1\n",
      "Length of group (400, 3964): 1\n",
      "Length of group (400, 1098): 1\n",
      "Length of group (400, 31): 1\n",
      "Length of group (400, 2458): 1\n",
      "Length of group (400, 3966): 2\n",
      "Length of group (400, 2261): 1\n",
      "Length of group (400, 2120): 1\n",
      "Length of group (400, 2410): 1\n",
      "Length of group (400, 4045): 1\n",
      "Length of group (400, 3982): 1\n",
      "Length of group (400, 3052): 1\n",
      "Length of group (400, 4086): 1\n",
      "Length of group (400, 3217): 1\n",
      "Length of group (400, 3532): 1\n",
      "Length of group (400, 3821): 1\n",
      "Length of group (400, 2004): 1\n",
      "Length of group (400, 3065): 1\n",
      "Length of group (400, 2990): 1\n",
      "Length of group (400, 3069): 1\n",
      "Length of group (400, 2146): 1\n",
      "Length of group (400, 1936): 1\n",
      "Length of group (400, 2002): 1\n",
      "Length of group (400, 4082): 1\n",
      "Length of group (400, 3557): 1\n",
      "Length of group (400, 3978): 1\n",
      "Length of group (400, 3152): 1\n",
      "Length of group (400, 3521): 1\n",
      "Length of group (400, 2870): 1\n",
      "Length of group (400, 3094): 1\n",
      "Length of group (400, 3770): 1\n",
      "Length of group (400, 1585): 1\n",
      "Length of group (400, 3014): 2\n",
      "Length of group (400, 2068): 1\n",
      "Length of group (400, 1869): 1\n",
      "Length of group (400, 3690): 1\n",
      "Length of group (400, 1572): 1\n",
      "Length of group (400, 2997): 1\n",
      "Length of group (400, 2632): 1\n",
      "Length of group (400, 1588): 1\n",
      "Length of group (400, 2494): 1\n",
      "Length of group (400, 3016): 1\n",
      "Length of group (400, 2321): 1\n",
      "Length of group (400, 3264): 1\n",
      "Length of group (400, 3157): 1\n",
      "Length of group (400, 2569): 1\n",
      "Length of group (400, 2906): 1\n",
      "Length of group (400, 1974): 1\n",
      "Length of group (400, 1889): 1\n",
      "Length of group (400, 3198): 1\n",
      "Length of group (400, 3113): 1\n",
      "Length of group (400, 3002): 1\n",
      "Length of group (400, 2196): 1\n",
      "Length of group (400, 2544): 1\n",
      "Length of group (400, 3697): 1\n",
      "Length of group (400, 3186): 1\n",
      "Length of group (400, 3133): 2\n",
      "Length of group (400, 2594): 1\n",
      "Length of group (400, 3106): 1\n",
      "Length of group (400, 2913): 1\n",
      "Length of group (400, 2272): 1\n",
      "Length of group (400, 3193): 1\n",
      "Length of group (400, 3569): 1\n",
      "Length of group (400, 3384): 1\n",
      "Length of group (400, 949): 1\n",
      "Length of group (400, 3436): 1\n",
      "Length of group (400, 2806): 1\n",
      "Length of group (400, 3928): 1\n",
      "Length of group (400, 3137): 1\n",
      "Length of group (400, 3753): 1\n",
      "Length of group (400, 4022): 1\n",
      "Length of group (400, 1964): 1\n",
      "Length of group (400, 1892): 1\n",
      "Length of group (400, 1568): 1\n",
      "Length of group (400, 2112): 1\n",
      "Length of group (400, 2780): 1\n",
      "Length of group (400, 2904): 1\n",
      "Length of group (400, 3497): 1\n",
      "Length of group (400, 2296): 1\n",
      "Length of group (400, 2732): 1\n",
      "Length of group (400, 3545): 1\n",
      "Length of group (400, 3168): 1\n",
      "Length of group (400, 2678): 1\n",
      "Length of group (400, 2448): 1\n",
      "Length of group (400, 2790): 1\n",
      "Length of group (400, 2445): 1\n",
      "Length of group (400, 3489): 1\n",
      "Length of group (400, 3420): 1\n",
      "Length of group (400, 3541): 2\n",
      "Length of group (400, 2469): 1\n",
      "Length of group (400, 2626): 1\n",
      "Length of group (400, 2704): 1\n",
      "Length of group (400, 3930): 1\n",
      "Length of group (400, 4076): 1\n",
      "Length of group (400, 2613): 1\n",
      "Length of group (400, 3114): 1\n",
      "Length of group (400, 2866): 2\n",
      "Length of group (400, 2692): 1\n",
      "Length of group (400, 4069): 1\n",
      "Length of group (400, 3006): 1\n",
      "Length of group (400, 1993): 1\n",
      "Length of group (400, 3644): 1\n",
      "Length of group (400, 2737): 1\n",
      "Length of group (400, 3921): 1\n",
      "Length of group (400, 2821): 1\n",
      "Length of group (400, 3668): 1\n",
      "Length of group (400, 2100): 1\n",
      "Length of group (400, 2129): 1\n",
      "Length of group (400, 3228): 1\n",
      "Length of group (400, 1917): 1\n",
      "Length of group (400, 3944): 2\n",
      "Length of group (400, 2048): 1\n",
      "Length of group (400, 3126): 1\n",
      "Length of group (400, 4081): 1\n",
      "Length of group (400, 4025): 1\n",
      "Length of group (400, 4006): 1\n",
      "Length of group (400, 3828): 1\n",
      "Length of group (400, 3225): 1\n",
      "Length of group (400, 3990): 1\n",
      "Length of group (400, 2178): 1\n",
      "Length of group (400, 3080): 1\n",
      "Length of group (400, 3977): 1\n",
      "Length of group (400, 2530): 1\n",
      "Length of group (400, 3018): 1\n",
      "Length of group (400, 3290): 1\n",
      "Length of group (400, 2228): 1\n",
      "Length of group (400, 3922): 1\n",
      "Length of group (400, 3333): 1\n",
      "Length of group (400, 1842): 1\n",
      "Length of group (400, 2044): 1\n"
     ]
    }
   ],
   "source": [
    "# Print the length of each group (sampling frequency, n_sig) in dbn_dataset_samlping_counter\n",
    "for group in dbn_dataset_samlping_counter:\n",
    "    print(\"Length of group \" + str(group) + \": \" + str(len(dbn_dataset_samlping_counter[group])))"
   ]
  },
  {
   "cell_type": "code",
   "execution_count": 22,
   "metadata": {},
   "outputs": [
    {
     "data": {
      "text/plain": [
       "(400, 4096)"
      ]
     },
     "execution_count": 22,
     "metadata": {},
     "output_type": "execute_result"
    }
   ],
   "source": [
    "sampling_freq_groups = dbn_dataset_samlping_counter.keys()\n",
    "max(sampling_freq_groups, key= lambda x:x[1])"
   ]
  },
  {
   "cell_type": "code",
   "execution_count": 23,
   "metadata": {},
   "outputs": [
    {
     "data": {
      "text/plain": [
       "(400, 31)"
      ]
     },
     "execution_count": 23,
     "metadata": {},
     "output_type": "execute_result"
    }
   ],
   "source": [
    "min(sampling_freq_groups, key= lambda x:x[1])"
   ]
  },
  {
   "cell_type": "code",
   "execution_count": 24,
   "metadata": {},
   "outputs": [
    {
     "name": "stdout",
     "output_type": "stream",
     "text": [
      "['1480438.hea', '1544638.hea', '1675042.hea', '278648.hea', '2931032.hea', '830653.hea', '85479.hea']\n"
     ]
    }
   ],
   "source": [
    "print(dbn_dataset_samlping_counter[(400, 3874)])"
   ]
  },
  {
   "cell_type": "code",
   "execution_count": 25,
   "metadata": {},
   "outputs": [
    {
     "name": "stdout",
     "output_type": "stream",
     "text": [
      "Number of records without a sampling frequency of 400hz: 0\n"
     ]
    }
   ],
   "source": [
    "# Any records without a sampling frequency of 400?\n",
    "not_400hz_count = 0\n",
    "\n",
    "for group in dbn_dataset_samlping_counter:\n",
    "    if group[0] != 400:\n",
    "        not_400hz_count += len(dbn_dataset_samlping_counter[group])\n",
    "\n",
    "print(\"Number of records without a sampling frequency of 400hz: \" + str(not_400hz_count))"
   ]
  },
  {
   "cell_type": "code",
   "execution_count": 26,
   "metadata": {},
   "outputs": [],
   "source": [
    "# How many records with a signal length less than 2934\n",
    "\n",
    "less_than_2934_count = 0\n",
    "\n",
    "for group in dbn_dataset_samlping_counter:\n",
    "    if group[1] < 2934:\n",
    "        less_than_2934_count += len(dbn_dataset_samlping_counter[group])\n"
   ]
  },
  {
   "cell_type": "code",
   "execution_count": 28,
   "metadata": {},
   "outputs": [
    {
     "name": "stdout",
     "output_type": "stream",
     "text": [
      "Number of records with a signal length less than 2934: 78\n"
     ]
    }
   ],
   "source": [
    "print(\"Number of records with a signal length less than 2934: \" + str(less_than_2934_count))"
   ]
  },
  {
   "cell_type": "code",
   "execution_count": 29,
   "metadata": {},
   "outputs": [
    {
     "name": "stdout",
     "output_type": "stream",
     "text": [
      "3268\n"
     ]
    }
   ],
   "source": [
    "# How many records with a signal length less than 2934\n",
    "\n",
    "total_count = 0\n",
    "\n",
    "for group in dbn_dataset_samlping_counter:\n",
    "    total_count += len(dbn_dataset_samlping_counter[group])\n",
    "\n",
    "print(total_count) "
   ]
  },
  {
   "cell_type": "markdown",
   "metadata": {},
   "source": [
    "DBNs are supposed to be good at handling missing data. In this case I don't have missing data in the sense that I have NaNs in my dataset, but I do have some signals that are longer than others? Can DBNs natively handle that or do I need to truncate? Or is it not a good idea to construct DBNs on missing data in the first place?"
   ]
  },
  {
   "cell_type": "markdown",
   "metadata": {},
   "source": [
    "It is not strictly necessary to make observations equal-length for DBN Training. ChatGPT4.5 reccommends keeping natural sequence lengths for classical DBNs. EM-based training naturally handles differing lengths. Also it seems that real-world data will naturally come in varying lengths."
   ]
  },
  {
   "cell_type": "markdown",
   "metadata": {},
   "source": [
    "Now I need to copy over about 1634 negative examples to get a 50/50 split in this dataset."
   ]
  },
  {
   "cell_type": "markdown",
   "metadata": {},
   "source": [
    "Can I randomly pick out 1634 negative examples from Code15_exams_part0 ?"
   ]
  },
  {
   "cell_type": "code",
   "execution_count": 99,
   "metadata": {},
   "outputs": [],
   "source": [
    "import random\n",
    "import wfdb\n",
    "from pathlib import Path\n",
    "\n",
    "def get_negative_records(path, num_negative_records):\n",
    "    # Convert path to Path object\n",
    "    directory = Path(path)\n",
    "\n",
    "    # Reservoir sampling approach to select 'num_negative_records' randomly\n",
    "    negative_records = []\n",
    "    \n",
    "    # Counter for the number of negative records found\n",
    "    count = 0\n",
    "    \n",
    "    # Iterate through all .hea files in the directory\n",
    "    for file in directory.glob('*.hea'):\n",
    "        file_name_without_extension = file.stem  # Get file name without extension\n",
    "        \n",
    "        # Read the header file using wfdb.rdheader\n",
    "        header = wfdb.rdheader(str(directory / file_name_without_extension))\n",
    "        \n",
    "        # Check if the file is a negative record (doesn't contain 'Chagas label: True')\n",
    "        if header.__dict__['comments'][2] == 'Chagas label: False':\n",
    "            count += 1\n",
    "            # Reservoir sampling: once we reach the desired number of negative records, stop\n",
    "            if len(negative_records) < num_negative_records:\n",
    "                negative_records.append(file.name)\n",
    "            else:\n",
    "                # Randomly replace a file in the list with a new one\n",
    "                replace_index = random.randint(0, count - 1)\n",
    "                if replace_index < num_negative_records:\n",
    "                    negative_records[replace_index] = file.name\n",
    "    \n",
    "    # If we found fewer negative records than requested, return them all\n",
    "    if count < num_negative_records:\n",
    "        print(f\"Warning: Only found {count} negative records. Selecting all of them.\")\n",
    "        return negative_records\n",
    "    \n",
    "    return negative_records\n",
    "\n",
    "# Example usage\n",
    "path = \"/Users/evanzimm/GitHub/python-example-2025/code15_output/exams_part0\"  # Replace with the path to your directory\n",
    "num_negative_records = 1634  # Specify how many negative records you want to randomly select\n",
    "\n",
    "selected_records = get_negative_records(path, num_negative_records)\n",
    "#print(f\"Selected negative records: {selected_records}\")\n"
   ]
  },
  {
   "cell_type": "code",
   "execution_count": 100,
   "metadata": {},
   "outputs": [
    {
     "name": "stdout",
     "output_type": "stream",
     "text": [
      "['1255707.hea', '97615.hea', '1000087.hea', '4267042.hea', '2869433.hea', '3080563.hea', '1000353.hea', '1432592.hea', '1393220.hea', '390595.hea', '929735.hea', '969611.hea', '1677062.hea', '1303757.hea', '3785466.hea', '1529808.hea', '744671.hea', '1315133.hea', '1420607.hea', '441745.hea', '2895172.hea', '3223494.hea', '1333446.hea', '1002915.hea', '4218706.hea', '3412125.hea', '2837563.hea', '1496205.hea', '1285889.hea', '394546.hea', '1003741.hea', '817751.hea', '598047.hea', '524291.hea', '1004472.hea', '32788.hea', '674603.hea', '309337.hea', '3055806.hea', '77882.hea', '2881403.hea', '336582.hea', '1572003.hea', '959156.hea', '2744462.hea', '3176703.hea', '215284.hea', '1601181.hea', '1006072.hea', '993611.hea', '990724.hea', '974104.hea', '974790.hea', '766321.hea', '358817.hea', '160779.hea', '1250142.hea', '508699.hea', '10071.hea', '186032.hea', '756.hea', '1251058.hea', '1007363.hea', '3201007.hea', '1375869.hea', '1337168.hea', '2918309.hea', '1007979.hea', '3794324.hea', '1181365.hea', '4399550.hea', '167679.hea', '1660134.hea', '860955.hea', '139195.hea', '4416421.hea', '1202341.hea', '3152641.hea', '1640555.hea', '209986.hea', '3228871.hea', '1009246.hea', '640903.hea', '2889128.hea', '373502.hea', '3127372.hea', '119371.hea', '3079092.hea', '4215690.hea', '995770.hea', '1010024.hea', '278897.hea', '1170979.hea', '1255473.hea', '1662993.hea', '888137.hea', '961410.hea', '1010802.hea', '3099310.hea', '1386755.hea', '175839.hea', '2832092.hea', '1183178.hea', '723196.hea', '561354.hea', '2795748.hea', '1563637.hea', '1011439.hea', '769095.hea', '821571.hea', '1607476.hea', '1011982.hea', '423438.hea', '1012150.hea', '625979.hea', '1012326.hea', '2760342.hea', '3785113.hea', '687306.hea', '1012668.hea', '1012756.hea', '1448236.hea', '46616.hea', '1194331.hea', '3015948.hea', '1344117.hea', '3615089.hea', '1575953.hea', '200787.hea', '172935.hea', '603880.hea', '1014062.hea', '88512.hea', '447173.hea', '2932970.hea', '3229244.hea', '3200994.hea', '1399066.hea', '646363.hea', '1172396.hea', '2727338.hea', '1412946.hea', '1478300.hea', '4205885.hea', '2771090.hea', '977233.hea', '1224989.hea', '613425.hea', '495174.hea', '1299064.hea', '748757.hea', '331439.hea', '1197121.hea', '300834.hea', '214778.hea', '1599932.hea', '2834525.hea', '91548.hea', '3087351.hea', '3058061.hea', '2863669.hea', '3037137.hea', '4209430.hea', '796560.hea', '1379778.hea', '1598247.hea', '3086024.hea', '1560300.hea', '3167254.hea', '455948.hea', '4249761.hea', '1434878.hea', '2686319.hea', '438706.hea', '1615559.hea', '98447.hea', '14258.hea', '415238.hea', '49890.hea', '883050.hea', '262391.hea', '864299.hea', '393979.hea', '1516493.hea', '2764047.hea', '652524.hea', '96221.hea', '66068.hea', '1203905.hea', '469270.hea', '1366094.hea', '3133726.hea', '1361259.hea', '523193.hea', '1189534.hea', '348825.hea', '209588.hea', '1171232.hea', '1021600.hea', '3107612.hea', '472761.hea', '4197902.hea', '39954.hea', '1021820.hea', '1454676.hea', '594932.hea', '1476702.hea', '214133.hea', '1473979.hea', '1022151.hea', '428430.hea', '538312.hea', '49366.hea', '478160.hea', '1495976.hea', '2827196.hea', '205859.hea', '2830457.hea', '489983.hea', '1023220.hea', '1492677.hea', '834235.hea', '1296120.hea', '14578.hea', '667956.hea', '564833.hea', '758080.hea', '549543.hea', '2924399.hea', '678590.hea', '297057.hea', '396411.hea', '1024156.hea', '2776412.hea', '857831.hea', '42694.hea', '2764191.hea', '1282139.hea', '135084.hea', '2827.hea', '475021.hea', '1320620.hea', '776443.hea', '3028063.hea', '2766605.hea', '609412.hea', '14766.hea', '2769416.hea', '2952591.hea', '1253831.hea', '920571.hea', '1654613.hea', '4258960.hea', '2897046.hea', '4266330.hea', '3012039.hea', '1579040.hea', '173698.hea', '1574845.hea', '4240426.hea', '1027305.hea', '43182.hea', '1027547.hea', '719563.hea', '29909.hea', '1426944.hea', '4399441.hea', '1028005.hea', '133500.hea', '1213367.hea', '2736818.hea', '2746893.hea', '3103088.hea', '2942990.hea', '3042965.hea', '102927.hea', '3112898.hea', '977030.hea', '644711.hea', '3783846.hea', '19956.hea', '3116402.hea', '587560.hea', '982098.hea', '194027.hea', '4410066.hea', '4204284.hea', '460751.hea', '1315236.hea', '800465.hea', '1331920.hea', '133422.hea', '1558371.hea', '764393.hea', '978606.hea', '1030902.hea', '1320788.hea', '3196093.hea', '1507010.hea', '862822.hea', '653684.hea', '1031558.hea', '818165.hea', '1447201.hea', '2891491.hea', '1032315.hea', '2918315.hea', '778308.hea', '640576.hea', '1295968.hea', '52690.hea', '1032946.hea', '31424.hea', '1171199.hea', '1033478.hea', '2664736.hea', '1355435.hea', '1324529.hea', '231034.hea', '1655817.hea', '721009.hea', '1217610.hea', '1277266.hea', '273232.hea', '1677354.hea', '1451061.hea', '648488.hea', '186067.hea', '959854.hea', '610130.hea', '275699.hea', '722499.hea', '1035660.hea', '582040.hea', '1491630.hea', '1402878.hea', '127367.hea', '1213383.hea', '580753.hea', '849620.hea', '3017913.hea', '2790938.hea', '2971831.hea', '2966384.hea', '41150.hea', '257215.hea', '3616166.hea', '95894.hea', '10373.hea', '445152.hea', '1037431.hea', '3010862.hea', '2948699.hea', '1466620.hea', '3408269.hea', '2956849.hea', '1652644.hea', '402969.hea', '3797784.hea', '495358.hea', '1038020.hea', '2895733.hea', '1949681.hea', '518542.hea', '787542.hea', '701589.hea', '1236272.hea', '558992.hea', '4253660.hea', '2513180.hea', '942965.hea', '1659782.hea', '3179541.hea', '1205939.hea', '33310.hea', '772420.hea', '529301.hea', '861957.hea', '845344.hea', '496441.hea', '1255692.hea', '203951.hea', '1483255.hea', '2659447.hea', '1301356.hea', '844789.hea', '3801155.hea', '421078.hea', '171725.hea', '1041620.hea', '1041952.hea', '129618.hea', '1390086.hea', '693493.hea', '3406850.hea', '1413970.hea', '1460836.hea', '1042726.hea', '3224895.hea', '257424.hea', '55702.hea', '636632.hea', '865137.hea', '1043301.hea', '827925.hea', '1568971.hea', '866899.hea', '3068894.hea', '3137046.hea', '3149750.hea', '239887.hea', '4211909.hea', '1579864.hea', '398098.hea', '2947224.hea', '1604857.hea', '1265687.hea', '1355040.hea', '2907707.hea', '1044887.hea', '831445.hea', '3114788.hea', '347383.hea', '3041378.hea', '2935507.hea', '2680529.hea', '808225.hea', '1393494.hea', '1045995.hea', '573925.hea', '4407533.hea', '412505.hea', '1242106.hea', '1507799.hea', '19605.hea', '342055.hea', '804482.hea', '1046639.hea', '552009.hea', '772357.hea', '423558.hea', '900267.hea', '3147250.hea', '1561749.hea', '1046988.hea', '1566355.hea', '933809.hea', '251641.hea', '849756.hea', '420183.hea', '248244.hea', '4392072.hea', '104745.hea', '2749833.hea', '77879.hea', '28743.hea', '4212868.hea', '1544933.hea', '551199.hea', '1048937.hea', '2927911.hea', '460110.hea', '1303193.hea', '774793.hea', '341195.hea', '2989198.hea', '4405796.hea', '1597154.hea', '2928176.hea', '1369332.hea', '177207.hea', '1401152.hea', '707068.hea', '610917.hea', '289977.hea', '845263.hea', '194409.hea', '823343.hea', '865928.hea', '2940616.hea', '3623110.hea', '513975.hea', '920133.hea', '1626971.hea', '1642174.hea', '529118.hea', '1050907.hea', '3048694.hea', '141409.hea', '1185130.hea', '3112039.hea', '2857906.hea', '1051288.hea', '177170.hea', '1645006.hea', '129889.hea', '318254.hea', '1252775.hea', '1604972.hea', '566042.hea', '1268490.hea', '4197331.hea', '343993.hea', '38905.hea', '1628260.hea', '620080.hea', '1382047.hea', '1052078.hea', '3167404.hea', '188075.hea', '480413.hea', '1052487.hea', '734984.hea', '903224.hea', '1557303.hea', '530926.hea', '2870458.hea', '607256.hea', '2925766.hea', '3093298.hea', '2946553.hea', '2668345.hea', '2985713.hea', '769138.hea', '760007.hea', '3034186.hea', '1426603.hea', '56716.hea', '676250.hea', '89204.hea', '949140.hea', '1054321.hea', '1354212.hea', '1455517.hea', '2915914.hea', '338940.hea', '970849.hea', '2850251.hea', '1394208.hea', '1055135.hea', '573987.hea', '603243.hea', '1055296.hea', '1558163.hea', '1229032.hea', '4195707.hea', '420044.hea', '486456.hea', '1172085.hea', '641547.hea', '3796157.hea', '2740690.hea', '1498130.hea', '1643020.hea', '589103.hea', '156028.hea', '1315719.hea', '834312.hea', '99068.hea', '1384686.hea', '2759143.hea', '971769.hea', '965127.hea', '4265113.hea', '4403913.hea', '2783960.hea', '227680.hea', '3104052.hea', '2686402.hea', '937999.hea', '404433.hea', '758165.hea', '2539017.hea', '2854618.hea', '2537648.hea', '77981.hea', '786410.hea', '2932016.hea', '3106783.hea', '1058915.hea', '229245.hea', '2735721.hea', '1572895.hea', '912326.hea', '807267.hea', '267033.hea', '1060305.hea', '195777.hea', '3159232.hea', '4404035.hea', '2672158.hea', '1269167.hea', '14854.hea', '3161434.hea', '943601.hea', '2654669.hea', '809091.hea', '219699.hea', '257256.hea', '2675198.hea', '2858713.hea', '2821336.hea', '1294063.hea', '194591.hea', '526311.hea', '71474.hea', '922865.hea', '3059301.hea', '1576534.hea', '4246260.hea', '257398.hea', '704773.hea', '2816667.hea', '2781946.hea', '2517719.hea', '1359574.hea', '1063597.hea', '1064058.hea', '143657.hea', '51654.hea', '818354.hea', '3074229.hea', '1064634.hea', '1522356.hea', '2830872.hea', '1064721.hea', '1579124.hea', '1408858.hea', '658366.hea', '953109.hea', '3043394.hea', '33099.hea', '1649651.hea', '1065826.hea', '455214.hea', '1667035.hea', '395124.hea', '1515152.hea', '182168.hea', '3150054.hea', '2869714.hea', '1289966.hea', '3024687.hea', '689826.hea', '984908.hea', '809555.hea', '3031117.hea', '4210639.hea', '2964657.hea', '4272356.hea', '3786984.hea', '554713.hea', '268519.hea', '2687507.hea', '993531.hea', '1672320.hea', '655809.hea', '1202260.hea', '150601.hea', '1531836.hea', '62960.hea', '532390.hea', '908304.hea', '1288593.hea', '1068995.hea', '580779.hea', '1181187.hea', '117476.hea', '671514.hea', '234224.hea', '1613684.hea', '1562649.hea', '701401.hea', '2843114.hea', '28392.hea', '755046.hea', '2988354.hea', '768743.hea', '361663.hea', '3414253.hea', '1499625.hea', '570295.hea', '3073222.hea', '1278437.hea', '129111.hea', '1344421.hea', '4244547.hea', '454424.hea', '4253072.hea', '244610.hea', '952653.hea', '906777.hea', '624706.hea', '247472.hea', '1313526.hea', '1372217.hea', '2728578.hea', '3783923.hea', '3076506.hea', '345047.hea', '2830365.hea', '3092817.hea', '1177322.hea', '475153.hea', '3397377.hea', '1300998.hea', '634030.hea', '375541.hea', '3401081.hea', '2663324.hea', '2885986.hea', '1074700.hea', '3207410.hea', '2867720.hea', '1074882.hea', '991866.hea', '1346205.hea', '549670.hea', '3006184.hea', '2894671.hea', '1248909.hea', '1075310.hea', '946300.hea', '1358234.hea', '1271216.hea', '702555.hea', '3187126.hea', '365871.hea', '2541723.hea', '472013.hea', '1401019.hea', '2925533.hea', '4415277.hea', '124450.hea', '1459712.hea', '1410331.hea', '1315688.hea', '459440.hea', '940095.hea', '120394.hea', '2916161.hea', '1480438.hea', '2873933.hea', '2874517.hea', '765894.hea', '4242438.hea', '2799468.hea', '872797.hea', '349390.hea', '1335585.hea', '1276729.hea', '208217.hea', '246085.hea', '641302.hea', '1078688.hea', '3011278.hea', '1353932.hea', '3056101.hea', '2830312.hea', '878672.hea', '3015276.hea', '1079252.hea', '285386.hea', '1472856.hea', '720185.hea', '831158.hea', '3618075.hea', '980880.hea', '338293.hea', '1204048.hea', '1390210.hea', '2830968.hea', '1665636.hea', '1669275.hea', '878889.hea', '289833.hea', '1453162.hea', '1081222.hea', '1583997.hea', '315036.hea', '1081402.hea', '1648405.hea', '401534.hea', '608577.hea', '2793279.hea', '182228.hea', '1262589.hea', '1081878.hea', '566763.hea', '894464.hea', '317014.hea', '1578229.hea', '752036.hea', '2745880.hea', '808448.hea', '2957119.hea', '513245.hea', '1206825.hea', '1332102.hea', '665397.hea', '878456.hea', '3176822.hea', '643187.hea', '2982623.hea', '1338089.hea', '343577.hea', '3039102.hea', '1676467.hea', '861148.hea', '808821.hea', '1461570.hea', '1650290.hea', '1543321.hea', '901314.hea', '1182066.hea', '676041.hea', '2738958.hea', '2531405.hea', '76118.hea', '3788658.hea', '1257099.hea', '1649068.hea', '785630.hea', '1481314.hea', '344582.hea', '1393970.hea', '1563211.hea', '187680.hea', '766345.hea', '3218896.hea', '3155642.hea', '83300.hea', '754451.hea', '4266697.hea', '1353480.hea', '1322034.hea', '356212.hea', '803734.hea', '841883.hea', '682830.hea', '1321727.hea', '742219.hea', '3039359.hea', '330058.hea', '3172779.hea', '1088410.hea', '1088417.hea', '209145.hea', '1367439.hea', '2861024.hea', '1593817.hea', '2944557.hea', '739524.hea', '1443891.hea', '1404389.hea', '666849.hea', '4245944.hea', '732782.hea', '2919095.hea', '1523515.hea', '390018.hea', '3102346.hea', '1090735.hea', '631826.hea', '1659589.hea', '948329.hea', '619782.hea', '291793.hea', '1091481.hea', '244755.hea', '912267.hea', '3000469.hea', '386504.hea', '1236062.hea', '331955.hea', '987730.hea', '1544638.hea', '76809.hea', '3021541.hea', '351076.hea', '890022.hea', '1602591.hea', '331480.hea', '1436182.hea', '1632960.hea', '152524.hea', '3208681.hea', '713864.hea', '1261115.hea', '477798.hea', '260580.hea', '3174229.hea', '289112.hea', '1346426.hea', '1251305.hea', '1267635.hea', '2962446.hea', '2664567.hea', '4408276.hea', '574150.hea', '423730.hea', '4396272.hea', '1442933.hea', '773281.hea', '262696.hea', '413636.hea', '1562358.hea', '262192.hea', '96291.hea', '256492.hea', '1659915.hea', '1441217.hea', '1095284.hea', '278648.hea', '4206054.hea', '188258.hea', '942346.hea', '970004.hea', '1366768.hea', '1365118.hea', '1096101.hea', '3786966.hea', '1540583.hea', '1265334.hea', '1590114.hea', '478848.hea', '471368.hea', '1547235.hea', '597941.hea', '421428.hea', '2867921.hea', '841973.hea', '1489472.hea', '801219.hea', '686001.hea', '1261173.hea', '228942.hea', '495825.hea', '242336.hea', '943746.hea', '1523881.hea', '321238.hea', '62595.hea', '1187703.hea', '2853031.hea', '631529.hea', '1098402.hea', '1224635.hea', '1353956.hea', '1098507.hea', '811216.hea', '1359105.hea', '891302.hea', '381353.hea', '448709.hea', '3066094.hea', '109893.hea', '805394.hea', '1219052.hea', '3103853.hea', '3170835.hea', '846293.hea', '3201595.hea', '48781.hea', '714006.hea', '700146.hea', '1390078.hea', '636884.hea', '163596.hea', '2996527.hea', '687940.hea', '546383.hea', '1175744.hea', '1101022.hea', '466950.hea', '4208806.hea', '789139.hea', '951535.hea', '234141.hea', '789042.hea', '975653.hea', '3110830.hea', '3044.hea', '3002545.hea', '4215715.hea', '1620136.hea', '4248651.hea', '1226131.hea', '2928997.hea', '602749.hea', '3111111.hea', '3172572.hea', '2927221.hea', '202095.hea', '1405713.hea', '480450.hea', '570126.hea', '5220.hea', '597028.hea', '2931344.hea', '659898.hea', '559.hea', '477253.hea', '1526131.hea', '1648860.hea', '1653124.hea', '276322.hea', '795122.hea', '74868.hea', '1104944.hea', '2798017.hea', '1105166.hea', '878145.hea', '529609.hea', '189893.hea', '421455.hea', '496526.hea', '1106082.hea', '665904.hea', '460149.hea', '13377.hea', '1347677.hea', '440074.hea', '589367.hea', '4264695.hea', '1107070.hea', '1340390.hea', '1107158.hea', '1318618.hea', '211109.hea', '984673.hea', '2958645.hea', '893922.hea', '1503876.hea', '1220406.hea', '2834.hea', '501713.hea', '1313893.hea', '1109127.hea', '3212122.hea', '1412410.hea', '1109754.hea', '1109952.hea', '3059903.hea', '1567387.hea', '370019.hea', '3181627.hea', '4390063.hea', '2879301.hea', '1552826.hea', '1319023.hea', '1111120.hea', '937303.hea', '2801170.hea', '2682286.hea', '3413718.hea', '509380.hea', '2917660.hea', '1426923.hea', '797814.hea', '1569070.hea', '2755234.hea', '4198178.hea', '1177368.hea', '777080.hea', '1318149.hea', '1637739.hea', '1461960.hea', '3127840.hea', '320822.hea', '186674.hea', '838607.hea', '863736.hea', '384666.hea', '1376570.hea', '1564174.hea', '505572.hea', '258190.hea', '2931032.hea', '2537303.hea', '776733.hea', '1448102.hea', '1390043.hea', '3792627.hea', '409559.hea', '111513.hea', '3228655.hea', '36717.hea', '3005928.hea', '3172405.hea', '3161398.hea', '606553.hea', '1200901.hea', '1404648.hea', '1638580.hea', '150864.hea', '3157404.hea', '1116316.hea', '1203598.hea', '1116524.hea', '828834.hea', '2528389.hea', '1525631.hea', '1116629.hea', '11167.hea', '2680024.hea', '2877122.hea', '667661.hea', '325713.hea', '4197581.hea', '259474.hea', '4389502.hea', '1117668.hea', '41714.hea', '333594.hea', '3066280.hea', '4237996.hea', '689450.hea', '1675042.hea', '732930.hea', '3089014.hea', '297618.hea', '4210393.hea', '1598923.hea', '3112775.hea', '658064.hea', '2837380.hea', '841404.hea', '607393.hea', '499598.hea', '1119950.hea', '1581558.hea', '3144562.hea', '3141574.hea', '672983.hea', '203520.hea', '210893.hea', '1364080.hea', '77205.hea', '3404772.hea', '1177122.hea', '1121122.hea', '556430.hea', '2523903.hea', '1491985.hea', '1592539.hea', '2659841.hea', '970662.hea', '839480.hea', '2983363.hea', '510845.hea', '4409082.hea', '2893377.hea', '91126.hea', '4399730.hea', '1616839.hea', '2900254.hea', '1122343.hea', '698282.hea', '3629859.hea', '1122910.hea', '287454.hea', '3015248.hea', '2732473.hea', '2746779.hea', '85479.hea', '795155.hea', '1265766.hea', '3031353.hea', '3006686.hea', '394622.hea', '882625.hea', '94366.hea', '629776.hea', '367174.hea', '60462.hea', '311956.hea', '924031.hea', '344386.hea', '1230822.hea', '786098.hea', '3212771.hea', '1551089.hea', '1187846.hea', '1124838.hea', '2978564.hea', '1125008.hea', '1125106.hea', '1125112.hea', '552056.hea', '4219206.hea', '864591.hea', '537848.hea', '153595.hea', '1239187.hea', '205753.hea', '2991319.hea', '764045.hea', '795260.hea', '2884985.hea', '112621.hea', '85891.hea', '1126632.hea', '3048632.hea', '4398827.hea', '429278.hea', '846261.hea', '1443800.hea', '4580.hea', '3224525.hea', '3181105.hea', '575794.hea', '595170.hea', '4261179.hea', '517043.hea', '928930.hea', '2736203.hea', '1194801.hea', '2935044.hea', '3075445.hea', '2947915.hea', '3175392.hea', '975667.hea', '3181807.hea', '1128781.hea', '3223819.hea', '884804.hea', '424044.hea', '2973364.hea', '1582282.hea', '1436794.hea', '2737383.hea', '691492.hea', '533133.hea', '3014310.hea', '658875.hea', '485589.hea', '436554.hea', '1222507.hea', '293761.hea', '1361783.hea', '697451.hea', '1504329.hea', '756780.hea', '326825.hea', '1131220.hea', '3625551.hea', '2655262.hea', '903349.hea', '30824.hea', '3181989.hea', '873215.hea', '1179595.hea', '3397535.hea', '888473.hea', '1132311.hea', '4212830.hea', '56978.hea', '1132639.hea', '3102313.hea', '337381.hea', '712116.hea', '255531.hea', '2877941.hea', '4398935.hea', '3142.hea', '3786994.hea', '2997765.hea', '919632.hea', '607322.hea', '544844.hea', '213700.hea', '779979.hea', '351559.hea', '583471.hea', '804920.hea', '4210047.hea', '1364188.hea', '385030.hea', '3133990.hea', '414465.hea', '3028402.hea', '1185797.hea', '3153910.hea', '357321.hea', '3625573.hea', '1274580.hea', '2798508.hea', '1193698.hea', '719744.hea', '3081139.hea', '2879102.hea', '1135551.hea', '279926.hea', '4208422.hea', '315040.hea', '3030302.hea', '448574.hea', '211314.hea', '29861.hea', '824325.hea', '789696.hea', '713942.hea', '252385.hea', '817180.hea', '3206995.hea', '1136963.hea', '1708272.hea', '4241179.hea', '518592.hea', '2531559.hea', '1179068.hea', '888855.hea', '3129219.hea', '1615217.hea', '1375571.hea', '4203491.hea', '896786.hea', '1137660.hea', '242404.hea', '154125.hea', '3102157.hea', '2955602.hea', '1138256.hea', '2505759.hea', '3126331.hea', '750917.hea', '3622614.hea', '429539.hea', '2935460.hea', '3101793.hea', '3083261.hea', '4251515.hea', '2967611.hea', '1139295.hea', '399606.hea', '1588523.hea', '3400662.hea', '755226.hea', '525587.hea', '763883.hea', '555561.hea', '263452.hea', '3021201.hea', '2843479.hea', '1270967.hea', '1211859.hea', '3798075.hea', '1240707.hea', '1392977.hea', '458611.hea', '1391498.hea', '1141372.hea', '234869.hea', '3190076.hea', '614626.hea', '756076.hea', '738376.hea', '1226144.hea', '767433.hea', '1327047.hea', '762329.hea', '1363948.hea', '1600018.hea', '436587.hea', '899267.hea', '257696.hea', '287209.hea', '2898427.hea', '3164989.hea', '3003653.hea', '1523632.hea', '1297731.hea', '515207.hea', '976842.hea', '512382.hea', '2735507.hea', '2840090.hea', '687131.hea', '1755077.hea', '1442954.hea', '652829.hea', '2885883.hea', '476722.hea', '793612.hea', '1569721.hea', '1428458.hea', '2679980.hea', '360815.hea', '639843.hea', '562641.hea', '966479.hea', '420967.hea', '794618.hea', '1380574.hea', '3155690.hea', '3004930.hea', '864177.hea', '3214642.hea', '1217115.hea', '1411999.hea', '1617129.hea', '943341.hea', '1227236.hea', '2891465.hea', '1634972.hea', '1396738.hea', '1146609.hea', '249370.hea', '852012.hea', '2763254.hea', '1541386.hea', '412943.hea', '489154.hea', '1350116.hea', '64141.hea', '4207185.hea', '3077785.hea', '987272.hea', '71337.hea', '3201905.hea', '1554156.hea', '749095.hea', '1458349.hea', '456041.hea', '133624.hea', '834147.hea', '3110967.hea', '1522871.hea', '3132483.hea', '267706.hea', '888918.hea', '362396.hea', '2849585.hea', '3202486.hea', '2950148.hea', '1482780.hea', '1150589.hea', '1423179.hea', '1252996.hea', '1150825.hea', '1150836.hea', '1673294.hea', '2799108.hea', '2978613.hea', '2519257.hea', '3083336.hea', '213249.hea', '1461409.hea', '309045.hea', '377993.hea', '863811.hea', '1502143.hea', '3170092.hea', '3185671.hea', '2828017.hea', '601201.hea', '3170600.hea', '1321669.hea', '461173.hea', '115282.hea', '2969208.hea', '1295682.hea', '4236092.hea', '1378359.hea', '389638.hea', '244590.hea', '925627.hea', '406847.hea', '2530441.hea', '793371.hea', '1459411.hea', '4394975.hea', '1611590.hea', '549187.hea', '1211787.hea', '1627330.hea', '323578.hea', '842515.hea', '488413.hea', '2816814.hea', '707455.hea', '281208.hea', '2740955.hea', '796652.hea', '668247.hea', '1156392.hea', '1264075.hea', '1609559.hea', '1594641.hea', '544740.hea', '126184.hea', '126130.hea', '279262.hea', '1614595.hea', '454875.hea', '2790592.hea', '3222951.hea', '287731.hea', '573110.hea', '964063.hea', '879323.hea', '1656825.hea', '3151870.hea', '841825.hea', '1216515.hea', '680351.hea', '9004.hea', '1623532.hea', '546838.hea', '307304.hea', '1242772.hea', '1439474.hea', '739142.hea', '138175.hea', '864923.hea', '1159373.hea', '504711.hea', '1407405.hea', '4407755.hea', '3140572.hea', '1566555.hea', '2757379.hea', '394351.hea', '3180953.hea', '4250480.hea', '589435.hea', '1577134.hea', '813328.hea', '302265.hea', '3099007.hea', '1307996.hea', '1263675.hea', '3793082.hea', '343225.hea', '3075993.hea', '812373.hea', '699044.hea', '800609.hea', '673694.hea', '1621796.hea', '1465735.hea', '2836719.hea', '1536526.hea', '68977.hea', '3002271.hea', '445384.hea', '1504861.hea', '949310.hea', '1321833.hea', '1258560.hea', '1162079.hea', '2784346.hea', '4404537.hea', '1162331.hea', '957526.hea', '3112600.hea', '1185822.hea', '499362.hea', '421140.hea', '977531.hea', '1163190.hea', '4201629.hea', '116339.hea', '1378462.hea', '78308.hea', '377423.hea', '1537333.hea', '987855.hea', '566467.hea', '301013.hea', '2996411.hea', '3007390.hea', '1164295.hea', '706299.hea', '461966.hea', '975946.hea', '2683041.hea', '966473.hea', '2909888.hea', '520609.hea', '621237.hea', '464137.hea', '737202.hea', '1478883.hea', '840151.hea', '27752.hea', '255309.hea', '1165991.hea', '2905654.hea', '786280.hea', '1506887.hea', '1275377.hea', '1478302.hea', '1645551.hea', '1494681.hea', '1166882.hea', '1242818.hea', '3044592.hea', '1395737.hea', '2897399.hea', '415042.hea', '3082972.hea', '473965.hea', '1167744.hea', '2966619.hea', '3050482.hea', '802406.hea', '248173.hea', '265761.hea', '385006.hea', '984350.hea', '1256149.hea', '1648477.hea', '654657.hea', '362799.hea', '1393655.hea', '529093.hea', '403788.hea', '236934.hea', '1169227.hea', '1202623.hea', '175863.hea', '1319282.hea', '421179.hea', '1170273.hea', '1416821.hea', '1334674.hea', '217740.hea', '1452208.hea', '324924.hea', '4407938.hea', '2533332.hea', '189338.hea']\n"
     ]
    }
   ],
   "source": [
    "print(selected_records)"
   ]
  },
  {
   "cell_type": "code",
   "execution_count": 101,
   "metadata": {},
   "outputs": [
    {
     "name": "stdout",
     "output_type": "stream",
     "text": [
      "1634\n"
     ]
    }
   ],
   "source": [
    "print(len(selected_records))"
   ]
  },
  {
   "cell_type": "code",
   "execution_count": 102,
   "metadata": {},
   "outputs": [],
   "source": [
    "# Copy the files from selected_records (and their corresponding .dat files into dbn_dataset)\n",
    "\n",
    "exams0_source_dir = \"/Users/evanzimm/GitHub/python-example-2025/code15_output/exams_part0\"  # Replace with the path to your source directory\n",
    "target_dir = \"/Users/evanzimm/GitHub/python-example-2025/dbn_dataset\"  # Replace with the path to your target directory\n",
    "other_suffix = \".dat\"  # The suffix of the other file to copy (e.g., \".hea\" for \".txt\")\n",
    "\n",
    "copy_files(selected_records, exams0_source_dir, target_dir, other_suffix)"
   ]
  },
  {
   "cell_type": "code",
   "execution_count": 103,
   "metadata": {},
   "outputs": [
    {
     "name": "stdout",
     "output_type": "stream",
     "text": [
      "/Users/evanzimm/GitHub/python-example-2025/dbn_dataset/1255707.hea exists.\n",
      "/Users/evanzimm/GitHub/python-example-2025/dbn_dataset/1255707.dat exists.\n"
     ]
    }
   ],
   "source": [
    "from pathlib import Path\n",
    "\n",
    "def file_exists(file_path):\n",
    "    return Path(file_path).exists()\n",
    "\n",
    "# Example usage\n",
    "hea_file_path = \"/Users/evanzimm/GitHub/python-example-2025/dbn_dataset/1255707.hea\"\n",
    "dat_file_path = \"/Users/evanzimm/GitHub/python-example-2025/dbn_dataset/1255707.dat\"\n",
    "\n",
    "if file_exists(hea_file_path):\n",
    "    print(f\"{hea_file_path} exists.\")\n",
    "else:\n",
    "    print(f\"{hea_file_path} does not exist.\")\n",
    "\n",
    "if file_exists(dat_file_path):\n",
    "    print(f\"{dat_file_path} exists.\")\n",
    "else:\n",
    "    print(f\"{dat_file_path} does not exist.\")\n"
   ]
  },
  {
   "cell_type": "markdown",
   "metadata": {},
   "source": [
    "Now I need to discretize states? but how? One idea is to break down an observation into multiple indepndent segments, but that doesn't seem to be right. I am dealing with high frequency data but I want to make it lower frequency to start."
   ]
  },
  {
   "cell_type": "markdown",
   "metadata": {},
   "source": [
    "Idea: Aggregate or downsample the data from high frequency into discrete steps (e.g. one second). This is a common, valid, and practical approach.\n",
    "\n",
    "This will simplify training, reduce noise, and preserve relevant information."
   ]
  },
  {
   "cell_type": "markdown",
   "metadata": {},
   "source": [
    "I need to write a function that takes in an observation and returns the aggregated version of the observation.\n",
    "\n",
    "'p_signal': array([[ 7.767,  2.82 , -4.947, ...,  3.826,  3.948,  4.367], ..., []])"
   ]
  },
  {
   "cell_type": "code",
   "execution_count": 113,
   "metadata": {},
   "outputs": [],
   "source": [
    "def temporalAggregation(record_path, aggregation_interval):\n",
    "    \"\"\"\n",
    "    Given a record path, take the signal and temporally aggregate it averaging observations over steps of {interval_length}\n",
    "\n",
    "    record_path (str): path to the record without the file extension at the end\n",
    "    interval_length (int): length of the interval of aggregation in seconds?\n",
    "\n",
    "    return: aggregatedSignal (str) a 2d array of size (original_length / 400, 12)\n",
    "    \"\"\"\n",
    "\n",
    "    # take the record path and read the record\n",
    "    record = wfdb.rdrecord(record_path)\n",
    "\n",
    "    original_freq = 400 # samples per second (Hz)\n",
    "    steps_per_interval = original_freq * aggregation_interval\n",
    "\n",
    "    # extract p_signal into a dataframe\n",
    "    df = pd.DataFrame(record.p_signal)\n",
    "\n",
    "    # Set the column names as the lead names (from the 'sig_name' attribute)\n",
    "    df.columns = record.sig_name\n",
    "\n",
    "    num_intervals = int(np.ceil(df.shape[0] / steps_per_interval))\n",
    "    aggregated_rows = []\n",
    "\n",
    "    for i in range(num_intervals):\n",
    "        start = i * steps_per_interval\n",
    "        end = min((i+1) * steps_per_interval, df.shape[0])\n",
    "        segment = df.iloc[start:end]\n",
    "\n",
    "        aggregated_features = segment.mean().to_dict()\n",
    "        aggregated_features['interval'] = i\n",
    "\n",
    "\n",
    "        aggregated_rows.append(aggregated_features)\n",
    "\n",
    "    agg_df = pd.DataFrame(aggregated_rows)\n",
    "\n",
    "    return agg_df "
   ]
  },
  {
   "cell_type": "code",
   "execution_count": 121,
   "metadata": {},
   "outputs": [
    {
     "data": {
      "text/html": [
       "<div>\n",
       "<style scoped>\n",
       "    .dataframe tbody tr th:only-of-type {\n",
       "        vertical-align: middle;\n",
       "    }\n",
       "\n",
       "    .dataframe tbody tr th {\n",
       "        vertical-align: top;\n",
       "    }\n",
       "\n",
       "    .dataframe thead th {\n",
       "        text-align: right;\n",
       "    }\n",
       "</style>\n",
       "<table border=\"1\" class=\"dataframe\">\n",
       "  <thead>\n",
       "    <tr style=\"text-align: right;\">\n",
       "      <th></th>\n",
       "      <th>I</th>\n",
       "      <th>II</th>\n",
       "      <th>III</th>\n",
       "      <th>AVR</th>\n",
       "      <th>AVL</th>\n",
       "      <th>AVF</th>\n",
       "      <th>V1</th>\n",
       "      <th>V2</th>\n",
       "      <th>V3</th>\n",
       "      <th>V4</th>\n",
       "      <th>V5</th>\n",
       "      <th>V6</th>\n",
       "      <th>interval</th>\n",
       "    </tr>\n",
       "  </thead>\n",
       "  <tbody>\n",
       "    <tr>\n",
       "      <th>0</th>\n",
       "      <td>-0.004715</td>\n",
       "      <td>-0.011178</td>\n",
       "      <td>-0.006485</td>\n",
       "      <td>0.012922</td>\n",
       "      <td>0.003390</td>\n",
       "      <td>-0.006375</td>\n",
       "      <td>0.000550</td>\n",
       "      <td>-0.007457</td>\n",
       "      <td>-0.007938</td>\n",
       "      <td>-0.012100</td>\n",
       "      <td>-0.011545</td>\n",
       "      <td>-0.006265</td>\n",
       "      <td>0</td>\n",
       "    </tr>\n",
       "    <tr>\n",
       "      <th>1</th>\n",
       "      <td>0.000210</td>\n",
       "      <td>0.002015</td>\n",
       "      <td>0.001793</td>\n",
       "      <td>0.003580</td>\n",
       "      <td>0.001560</td>\n",
       "      <td>0.004225</td>\n",
       "      <td>-0.000748</td>\n",
       "      <td>-0.007468</td>\n",
       "      <td>-0.007575</td>\n",
       "      <td>-0.010235</td>\n",
       "      <td>-0.005748</td>\n",
       "      <td>-0.004732</td>\n",
       "      <td>1</td>\n",
       "    </tr>\n",
       "    <tr>\n",
       "      <th>2</th>\n",
       "      <td>0.000538</td>\n",
       "      <td>-0.005000</td>\n",
       "      <td>-0.005540</td>\n",
       "      <td>0.007125</td>\n",
       "      <td>0.005605</td>\n",
       "      <td>-0.002910</td>\n",
       "      <td>-0.006038</td>\n",
       "      <td>-0.009502</td>\n",
       "      <td>-0.007537</td>\n",
       "      <td>-0.015037</td>\n",
       "      <td>-0.013873</td>\n",
       "      <td>-0.010333</td>\n",
       "      <td>2</td>\n",
       "    </tr>\n",
       "    <tr>\n",
       "      <th>3</th>\n",
       "      <td>-0.002655</td>\n",
       "      <td>-0.001980</td>\n",
       "      <td>0.000680</td>\n",
       "      <td>0.007118</td>\n",
       "      <td>0.000695</td>\n",
       "      <td>0.001755</td>\n",
       "      <td>-0.000300</td>\n",
       "      <td>-0.001008</td>\n",
       "      <td>0.007990</td>\n",
       "      <td>-0.004578</td>\n",
       "      <td>-0.001955</td>\n",
       "      <td>-0.004152</td>\n",
       "      <td>3</td>\n",
       "    </tr>\n",
       "    <tr>\n",
       "      <th>4</th>\n",
       "      <td>-0.004407</td>\n",
       "      <td>-0.030480</td>\n",
       "      <td>-0.026070</td>\n",
       "      <td>0.022220</td>\n",
       "      <td>0.013040</td>\n",
       "      <td>-0.025728</td>\n",
       "      <td>0.010348</td>\n",
       "      <td>-0.002383</td>\n",
       "      <td>-0.001537</td>\n",
       "      <td>-0.016783</td>\n",
       "      <td>-0.012538</td>\n",
       "      <td>-0.005765</td>\n",
       "      <td>4</td>\n",
       "    </tr>\n",
       "    <tr>\n",
       "      <th>5</th>\n",
       "      <td>0.022610</td>\n",
       "      <td>0.043335</td>\n",
       "      <td>0.020735</td>\n",
       "      <td>-0.028607</td>\n",
       "      <td>0.002980</td>\n",
       "      <td>0.034365</td>\n",
       "      <td>-0.033378</td>\n",
       "      <td>-0.003175</td>\n",
       "      <td>-0.037447</td>\n",
       "      <td>0.047332</td>\n",
       "      <td>0.048808</td>\n",
       "      <td>0.044408</td>\n",
       "      <td>5</td>\n",
       "    </tr>\n",
       "    <tr>\n",
       "      <th>6</th>\n",
       "      <td>-0.004545</td>\n",
       "      <td>-0.026642</td>\n",
       "      <td>-0.022078</td>\n",
       "      <td>0.020652</td>\n",
       "      <td>0.011325</td>\n",
       "      <td>-0.021882</td>\n",
       "      <td>0.002265</td>\n",
       "      <td>-0.009640</td>\n",
       "      <td>-0.002560</td>\n",
       "      <td>-0.029520</td>\n",
       "      <td>-0.028395</td>\n",
       "      <td>-0.031308</td>\n",
       "      <td>6</td>\n",
       "    </tr>\n",
       "    <tr>\n",
       "      <th>7</th>\n",
       "      <td>-0.002134</td>\n",
       "      <td>0.054970</td>\n",
       "      <td>0.057104</td>\n",
       "      <td>-0.021590</td>\n",
       "      <td>-0.027090</td>\n",
       "      <td>0.058396</td>\n",
       "      <td>0.025694</td>\n",
       "      <td>0.102433</td>\n",
       "      <td>0.149216</td>\n",
       "      <td>0.096201</td>\n",
       "      <td>0.050478</td>\n",
       "      <td>0.033373</td>\n",
       "      <td>7</td>\n",
       "    </tr>\n",
       "  </tbody>\n",
       "</table>\n",
       "</div>"
      ],
      "text/plain": [
       "          I        II       III       AVR       AVL       AVF        V1  \\\n",
       "0 -0.004715 -0.011178 -0.006485  0.012922  0.003390 -0.006375  0.000550   \n",
       "1  0.000210  0.002015  0.001793  0.003580  0.001560  0.004225 -0.000748   \n",
       "2  0.000538 -0.005000 -0.005540  0.007125  0.005605 -0.002910 -0.006038   \n",
       "3 -0.002655 -0.001980  0.000680  0.007118  0.000695  0.001755 -0.000300   \n",
       "4 -0.004407 -0.030480 -0.026070  0.022220  0.013040 -0.025728  0.010348   \n",
       "5  0.022610  0.043335  0.020735 -0.028607  0.002980  0.034365 -0.033378   \n",
       "6 -0.004545 -0.026642 -0.022078  0.020652  0.011325 -0.021882  0.002265   \n",
       "7 -0.002134  0.054970  0.057104 -0.021590 -0.027090  0.058396  0.025694   \n",
       "\n",
       "         V2        V3        V4        V5        V6  interval  \n",
       "0 -0.007457 -0.007938 -0.012100 -0.011545 -0.006265         0  \n",
       "1 -0.007468 -0.007575 -0.010235 -0.005748 -0.004732         1  \n",
       "2 -0.009502 -0.007537 -0.015037 -0.013873 -0.010333         2  \n",
       "3 -0.001008  0.007990 -0.004578 -0.001955 -0.004152         3  \n",
       "4 -0.002383 -0.001537 -0.016783 -0.012538 -0.005765         4  \n",
       "5 -0.003175 -0.037447  0.047332  0.048808  0.044408         5  \n",
       "6 -0.009640 -0.002560 -0.029520 -0.028395 -0.031308         6  \n",
       "7  0.102433  0.149216  0.096201  0.050478  0.033373         7  "
      ]
     },
     "execution_count": 121,
     "metadata": {},
     "output_type": "execute_result"
    }
   ],
   "source": [
    "test_df = temporalAggregation('/Users/evanzimm/GitHub/python-example-2025/dbn_dataset/1255707', 1)\n",
    "test_df"
   ]
  },
  {
   "cell_type": "markdown",
   "metadata": {},
   "source": [
    "I have code to break an observation into one second intervals but I need to add code to add gender, age, and Chagas at each interval"
   ]
  },
  {
   "cell_type": "code",
   "execution_count": 126,
   "metadata": {},
   "outputs": [],
   "source": [
    "def addGenderAgeChagas(df, record_path):\n",
    "    \"\"\"\n",
    "    Given a dataframe of temporally aggregated data, add gender, age, and chagas columbns\n",
    "    \"\"\"\n",
    "\n",
    "    # take the record path and read the record\n",
    "    record = wfdb.rdrecord(record_path)\n",
    "\n",
    "    # 'comments': ['Age: 68', 'Sex: Female', 'Chagas label: False', 'Source: CODE-15%']\n",
    "    age = int(record.comments[0].split(':')[1])\n",
    "    \n",
    "    if record.comments[1].split(':')[1] == ' Male':\n",
    "        gender = 0\n",
    "    else:\n",
    "        gender = 1\n",
    "\n",
    "    if record.comments[2].split(':')[1] == ' False':\n",
    "        chagas = 0\n",
    "    else:\n",
    "        chagas = 1\n",
    "    \n",
    "    column_len = df.shape[0]\n",
    "\n",
    "    df['age'] = [age] * column_len\n",
    "    df['gender'] = [gender] * column_len\n",
    "    df['chagas'] = [chagas] * column_len\n",
    "\n",
    "    return df\n",
    "\n"
   ]
  },
  {
   "cell_type": "code",
   "execution_count": 127,
   "metadata": {},
   "outputs": [
    {
     "data": {
      "text/html": [
       "<div>\n",
       "<style scoped>\n",
       "    .dataframe tbody tr th:only-of-type {\n",
       "        vertical-align: middle;\n",
       "    }\n",
       "\n",
       "    .dataframe tbody tr th {\n",
       "        vertical-align: top;\n",
       "    }\n",
       "\n",
       "    .dataframe thead th {\n",
       "        text-align: right;\n",
       "    }\n",
       "</style>\n",
       "<table border=\"1\" class=\"dataframe\">\n",
       "  <thead>\n",
       "    <tr style=\"text-align: right;\">\n",
       "      <th></th>\n",
       "      <th>I</th>\n",
       "      <th>II</th>\n",
       "      <th>III</th>\n",
       "      <th>AVR</th>\n",
       "      <th>AVL</th>\n",
       "      <th>AVF</th>\n",
       "      <th>V1</th>\n",
       "      <th>V2</th>\n",
       "      <th>V3</th>\n",
       "      <th>V4</th>\n",
       "      <th>V5</th>\n",
       "      <th>V6</th>\n",
       "      <th>interval</th>\n",
       "      <th>age</th>\n",
       "      <th>gender</th>\n",
       "      <th>chagas</th>\n",
       "    </tr>\n",
       "  </thead>\n",
       "  <tbody>\n",
       "    <tr>\n",
       "      <th>0</th>\n",
       "      <td>-0.004715</td>\n",
       "      <td>-0.011178</td>\n",
       "      <td>-0.006485</td>\n",
       "      <td>0.012922</td>\n",
       "      <td>0.003390</td>\n",
       "      <td>-0.006375</td>\n",
       "      <td>0.000550</td>\n",
       "      <td>-0.007457</td>\n",
       "      <td>-0.007938</td>\n",
       "      <td>-0.012100</td>\n",
       "      <td>-0.011545</td>\n",
       "      <td>-0.006265</td>\n",
       "      <td>0</td>\n",
       "      <td>72</td>\n",
       "      <td>1</td>\n",
       "      <td>0</td>\n",
       "    </tr>\n",
       "    <tr>\n",
       "      <th>1</th>\n",
       "      <td>0.000210</td>\n",
       "      <td>0.002015</td>\n",
       "      <td>0.001793</td>\n",
       "      <td>0.003580</td>\n",
       "      <td>0.001560</td>\n",
       "      <td>0.004225</td>\n",
       "      <td>-0.000748</td>\n",
       "      <td>-0.007468</td>\n",
       "      <td>-0.007575</td>\n",
       "      <td>-0.010235</td>\n",
       "      <td>-0.005748</td>\n",
       "      <td>-0.004732</td>\n",
       "      <td>1</td>\n",
       "      <td>72</td>\n",
       "      <td>1</td>\n",
       "      <td>0</td>\n",
       "    </tr>\n",
       "    <tr>\n",
       "      <th>2</th>\n",
       "      <td>0.000538</td>\n",
       "      <td>-0.005000</td>\n",
       "      <td>-0.005540</td>\n",
       "      <td>0.007125</td>\n",
       "      <td>0.005605</td>\n",
       "      <td>-0.002910</td>\n",
       "      <td>-0.006038</td>\n",
       "      <td>-0.009502</td>\n",
       "      <td>-0.007537</td>\n",
       "      <td>-0.015037</td>\n",
       "      <td>-0.013873</td>\n",
       "      <td>-0.010333</td>\n",
       "      <td>2</td>\n",
       "      <td>72</td>\n",
       "      <td>1</td>\n",
       "      <td>0</td>\n",
       "    </tr>\n",
       "    <tr>\n",
       "      <th>3</th>\n",
       "      <td>-0.002655</td>\n",
       "      <td>-0.001980</td>\n",
       "      <td>0.000680</td>\n",
       "      <td>0.007118</td>\n",
       "      <td>0.000695</td>\n",
       "      <td>0.001755</td>\n",
       "      <td>-0.000300</td>\n",
       "      <td>-0.001008</td>\n",
       "      <td>0.007990</td>\n",
       "      <td>-0.004578</td>\n",
       "      <td>-0.001955</td>\n",
       "      <td>-0.004152</td>\n",
       "      <td>3</td>\n",
       "      <td>72</td>\n",
       "      <td>1</td>\n",
       "      <td>0</td>\n",
       "    </tr>\n",
       "    <tr>\n",
       "      <th>4</th>\n",
       "      <td>-0.004407</td>\n",
       "      <td>-0.030480</td>\n",
       "      <td>-0.026070</td>\n",
       "      <td>0.022220</td>\n",
       "      <td>0.013040</td>\n",
       "      <td>-0.025728</td>\n",
       "      <td>0.010348</td>\n",
       "      <td>-0.002383</td>\n",
       "      <td>-0.001537</td>\n",
       "      <td>-0.016783</td>\n",
       "      <td>-0.012538</td>\n",
       "      <td>-0.005765</td>\n",
       "      <td>4</td>\n",
       "      <td>72</td>\n",
       "      <td>1</td>\n",
       "      <td>0</td>\n",
       "    </tr>\n",
       "    <tr>\n",
       "      <th>5</th>\n",
       "      <td>0.022610</td>\n",
       "      <td>0.043335</td>\n",
       "      <td>0.020735</td>\n",
       "      <td>-0.028607</td>\n",
       "      <td>0.002980</td>\n",
       "      <td>0.034365</td>\n",
       "      <td>-0.033378</td>\n",
       "      <td>-0.003175</td>\n",
       "      <td>-0.037447</td>\n",
       "      <td>0.047332</td>\n",
       "      <td>0.048808</td>\n",
       "      <td>0.044408</td>\n",
       "      <td>5</td>\n",
       "      <td>72</td>\n",
       "      <td>1</td>\n",
       "      <td>0</td>\n",
       "    </tr>\n",
       "    <tr>\n",
       "      <th>6</th>\n",
       "      <td>-0.004545</td>\n",
       "      <td>-0.026642</td>\n",
       "      <td>-0.022078</td>\n",
       "      <td>0.020652</td>\n",
       "      <td>0.011325</td>\n",
       "      <td>-0.021882</td>\n",
       "      <td>0.002265</td>\n",
       "      <td>-0.009640</td>\n",
       "      <td>-0.002560</td>\n",
       "      <td>-0.029520</td>\n",
       "      <td>-0.028395</td>\n",
       "      <td>-0.031308</td>\n",
       "      <td>6</td>\n",
       "      <td>72</td>\n",
       "      <td>1</td>\n",
       "      <td>0</td>\n",
       "    </tr>\n",
       "    <tr>\n",
       "      <th>7</th>\n",
       "      <td>-0.002134</td>\n",
       "      <td>0.054970</td>\n",
       "      <td>0.057104</td>\n",
       "      <td>-0.021590</td>\n",
       "      <td>-0.027090</td>\n",
       "      <td>0.058396</td>\n",
       "      <td>0.025694</td>\n",
       "      <td>0.102433</td>\n",
       "      <td>0.149216</td>\n",
       "      <td>0.096201</td>\n",
       "      <td>0.050478</td>\n",
       "      <td>0.033373</td>\n",
       "      <td>7</td>\n",
       "      <td>72</td>\n",
       "      <td>1</td>\n",
       "      <td>0</td>\n",
       "    </tr>\n",
       "  </tbody>\n",
       "</table>\n",
       "</div>"
      ],
      "text/plain": [
       "          I        II       III       AVR       AVL       AVF        V1  \\\n",
       "0 -0.004715 -0.011178 -0.006485  0.012922  0.003390 -0.006375  0.000550   \n",
       "1  0.000210  0.002015  0.001793  0.003580  0.001560  0.004225 -0.000748   \n",
       "2  0.000538 -0.005000 -0.005540  0.007125  0.005605 -0.002910 -0.006038   \n",
       "3 -0.002655 -0.001980  0.000680  0.007118  0.000695  0.001755 -0.000300   \n",
       "4 -0.004407 -0.030480 -0.026070  0.022220  0.013040 -0.025728  0.010348   \n",
       "5  0.022610  0.043335  0.020735 -0.028607  0.002980  0.034365 -0.033378   \n",
       "6 -0.004545 -0.026642 -0.022078  0.020652  0.011325 -0.021882  0.002265   \n",
       "7 -0.002134  0.054970  0.057104 -0.021590 -0.027090  0.058396  0.025694   \n",
       "\n",
       "         V2        V3        V4        V5        V6  interval  age  gender  \\\n",
       "0 -0.007457 -0.007938 -0.012100 -0.011545 -0.006265         0   72       1   \n",
       "1 -0.007468 -0.007575 -0.010235 -0.005748 -0.004732         1   72       1   \n",
       "2 -0.009502 -0.007537 -0.015037 -0.013873 -0.010333         2   72       1   \n",
       "3 -0.001008  0.007990 -0.004578 -0.001955 -0.004152         3   72       1   \n",
       "4 -0.002383 -0.001537 -0.016783 -0.012538 -0.005765         4   72       1   \n",
       "5 -0.003175 -0.037447  0.047332  0.048808  0.044408         5   72       1   \n",
       "6 -0.009640 -0.002560 -0.029520 -0.028395 -0.031308         6   72       1   \n",
       "7  0.102433  0.149216  0.096201  0.050478  0.033373         7   72       1   \n",
       "\n",
       "   chagas  \n",
       "0       0  \n",
       "1       0  \n",
       "2       0  \n",
       "3       0  \n",
       "4       0  \n",
       "5       0  \n",
       "6       0  \n",
       "7       0  "
      ]
     },
     "execution_count": 127,
     "metadata": {},
     "output_type": "execute_result"
    }
   ],
   "source": [
    "test_df = addGenderAgeChagas(test_df, '/Users/evanzimm/GitHub/python-example-2025/dbn_dataset/1255707')\n",
    "test_df"
   ]
  },
  {
   "cell_type": "markdown",
   "metadata": {},
   "source": [
    "I can use this code to process records for building the DBN. Now I have to think about how to build the DBN."
   ]
  }
 ],
 "metadata": {
  "kernelspec": {
   "display_name": "Python 3",
   "language": "python",
   "name": "python3"
  },
  "language_info": {
   "codemirror_mode": {
    "name": "ipython",
    "version": 3
   },
   "file_extension": ".py",
   "mimetype": "text/x-python",
   "name": "python",
   "nbconvert_exporter": "python",
   "pygments_lexer": "ipython3",
   "version": "3.12.9"
  }
 },
 "nbformat": 4,
 "nbformat_minor": 2
}
